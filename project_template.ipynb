{
 "cells": [
  {
   "cell_type": "markdown",
   "id": "8a623198-174f-44bc-aa35-0c3de16393d3",
   "metadata": {
    "editable": true,
    "slideshow": {
     "slide_type": ""
    },
    "tags": []
   },
   "source": [
    "# Project Template"
   ]
  },
  {
   "cell_type": "markdown",
   "id": "f05be1b3-aad5-4c07-9451-0a352cbc7d98",
   "metadata": {
    "editable": true,
    "slideshow": {
     "slide_type": ""
    },
    "tags": []
   },
   "source": [
    "The following template repeats the essential steps for scraping, tokenizing, and mapping sentiment data. Each major step is further broken down into smaller steps. You can step through most of the code. \n",
    "- You will  have to create your own dataframe names\n",
    "- Customize the filters\n",
    "- Customize the maps\n",
    "\n",
    "#### Note\n",
    "\n",
    "When your individual input is required the following symbol will appear:</br> \n",
    "![](edit-code.png)\n",
    "\n",
    "You should save your results to a `pickle` file after each major step. These points are indicated by the save icon:</br>\n",
    "![](save.png)\n",
    "</br>\n",
    "They are also titled **Export Pickle**\n",
    "You will need to import these results into the `project_presentation_template`"
   ]
  },
  {
   "cell_type": "markdown",
   "id": "545d29cb-efdb-47af-8194-1c655d3c9d35",
   "metadata": {
    "editable": true,
    "slideshow": {
     "slide_type": ""
    },
    "tags": []
   },
   "source": [
    "---\n"
   ]
  },
  {
   "cell_type": "markdown",
   "id": "e8b51b58-f44e-4136-90fb-7e07fd39b1ca",
   "metadata": {
    "editable": true,
    "slideshow": {
     "slide_type": ""
    },
    "tags": []
   },
   "source": [
    "## 2 Data Input and Wrangling"
   ]
  },
  {
   "cell_type": "markdown",
   "id": "4a7fceaf-0eb8-43b4-893a-edc89bfd04c3",
   "metadata": {
    "editable": true,
    "slideshow": {
     "slide_type": ""
    },
    "tags": [
     "hide-cell",
     "remove-cell"
    ]
   },
   "source": [
    "### Introduction\n",
    "\n",
    "In this step, you will download a CSV file from Gutenberg, modify it, and save it locally for further analysis."
   ]
  },
  {
   "cell_type": "markdown",
   "id": "7410354c-d0ad-42cd-a00c-a6209e7ee3dc",
   "metadata": {
    "editable": true,
    "jp-MarkdownHeadingCollapsed": true,
    "slideshow": {
     "slide_type": ""
    },
    "tags": [
     "hide-cell",
     "remove-cell"
    ]
   },
   "source": [
    "#### Process Steps:\n",
    "- Load a CSV file from a remote source\n",
    "- Save the file locally"
   ]
  },
  {
   "cell_type": "markdown",
   "id": "d5e93b30-85e5-42fa-a6e7-2a0032c655a7",
   "metadata": {
    "editable": false,
    "slideshow": {
     "slide_type": ""
    },
    "tags": [
     "hide-cell",
     "remove-cell"
    ]
   },
   "source": [
    "### Step-by-Step Guide"
   ]
  },
  {
   "cell_type": "markdown",
   "id": "d3505e26-76c9-4443-a36f-e1d4c066272d",
   "metadata": {
    "editable": true,
    "slideshow": {
     "slide_type": ""
    },
    "tags": [
     "hide-cell"
    ]
   },
   "source": [
    "#### Step 1: Import the Required Libraries\n",
    "\n",
    "The primary library for handling CSV data in Python is `pandas`. Make sure it’s imported at the beginning of your script.\n",
    "\n",
    "```python\n",
    "import pandas as pd\n",
    "```"
   ]
  },
  {
   "cell_type": "code",
   "execution_count": 2,
   "id": "e9f5f2a2-2f92-4232-bb90-e66bb23679ae",
   "metadata": {
    "editable": true,
    "slideshow": {
     "slide_type": ""
    },
    "tags": [
     "hide-cell"
    ]
   },
   "outputs": [],
   "source": [
    "import pandas as pd"
   ]
  },
  {
   "cell_type": "markdown",
   "id": "02676462-0aae-4fb4-ba9a-ad31fab2d91d",
   "metadata": {
    "editable": true,
    "slideshow": {
     "slide_type": ""
    },
    "tags": [
     "hide-cell"
    ]
   },
   "source": [
    "#### Step 2: Import Pickle File \n",
    "In lesson 2_1 we created a clean pickle file of the catalog, we can simply start there rather than running through all those steps."
   ]
  },
  {
   "cell_type": "code",
   "execution_count": 4,
   "id": "03226c8b-c440-4d6e-bc0c-d92c6d46cd7a",
   "metadata": {
    "editable": true,
    "slideshow": {
     "slide_type": ""
    },
    "tags": [
     "hide-cell"
    ]
   },
   "outputs": [],
   "source": [
    "pg_catalog_clean = pd.read_pickle('pg_catalog_clean.pickle')"
   ]
  },
  {
   "cell_type": "markdown",
   "id": "12d76f05-7766-423b-a48c-ff1c3a84643b",
   "metadata": {},
   "source": [
    "---\n"
   ]
  },
  {
   "cell_type": "markdown",
   "id": "2ed1594e-00a5-42d8-bbe5-5c7e6c5558b0",
   "metadata": {
    "editable": true,
    "slideshow": {
     "slide_type": ""
    },
    "tags": [
     "hide-cell"
    ]
   },
   "source": [
    "![](edit-code.png)"
   ]
  },
  {
   "cell_type": "markdown",
   "id": "4ed77fb6-2c68-4625-92a4-088e1384a853",
   "metadata": {
    "editable": true,
    "slideshow": {
     "slide_type": ""
    },
    "tags": []
   },
   "source": [
    "#### Step 3: Create a custom dataframe"
   ]
  },
  {
   "cell_type": "markdown",
   "id": "1d911b23-42d1-4a68-95a3-f74eaef89ff0",
   "metadata": {
    "editable": true,
    "slideshow": {
     "slide_type": ""
    },
    "tags": [
     "remove-cell"
    ]
   },
   "source": [
    "##### Overview\n",
    "\n",
    "In lesson 2_2 we learned how to filter dataframes. For this part of the project, you are going to create your own pg_catalog dataframe that includes the corpus of works you want to analyze. Your corpus can be as large as you want, but keep in mind that having a lot of text can significantly increase your processing time. \n",
    "\n",
    "##### Requirements\n",
    "Please follow the following parameters when creating our custom dataframe:\n",
    "\n",
    "1. Unique descriptive dataframe name (i.e. not `df_virginia_history`)\n",
    "\n",
    "2. Corpus should have a logical coherence.\n",
    "\n",
    "3. You should aim for at least 25 texts\n",
    "\n",
    "4. Save the resulting dataframe as a pickle file\n",
    "\n",
    "##### Note\n",
    "Remember to make a deep copy of your dataframe by using the method `.copy()`\n",
    "\n",
    "###### *Example*\n",
    "```python\n",
    "df_virginia_history = df_pg_catalog[\n",
    "    (df_pg_catalog.language == 'en') & \n",
    "    (df_pg_catalog.type == 'Text') \n",
    "].copy()\n",
    "```\n"
   ]
  },
  {
   "cell_type": "markdown",
   "id": "574f548a-6ba3-4478-b464-c800e1ca0af1",
   "metadata": {
    "editable": true,
    "slideshow": {
     "slide_type": ""
    },
    "tags": [
     "remove-cell"
    ]
   },
   "source": [
    "Save the dataframe to a pickle file: \n",
    "\n",
    "```python\n",
    "df_virginia_history.to_pickle('custom_file.pickle')\n",
    "```"
   ]
  },
  {
   "cell_type": "markdown",
   "id": "279d88e2-7949-4e17-85a0-b881c37c1bd2",
   "metadata": {},
   "source": [
    "---\n"
   ]
  },
  {
   "cell_type": "markdown",
   "id": "e7a6024e-8008-47ad-8952-1d93ef456f29",
   "metadata": {
    "editable": true,
    "slideshow": {
     "slide_type": ""
    },
    "tags": []
   },
   "source": [
    "## 3 Scraping Gutenberg"
   ]
  },
  {
   "cell_type": "markdown",
   "id": "df652a50-5080-4257-8b9a-bfebd08224c9",
   "metadata": {
    "editable": true,
    "slideshow": {
     "slide_type": ""
    },
    "tags": []
   },
   "source": [
    "### Overview\n",
    "\n",
    "In the previous section you were meant to create a custom dataframe. Here you are going to scrape that data frame. The scraping function assumes that your first column is called `text_id`. If that is not the case then something went wrong with the filtering process. "
   ]
  },
  {
   "cell_type": "markdown",
   "id": "fec5f3ac-2636-45b5-b84e-005bbdd81caa",
   "metadata": {},
   "source": [
    "#### Load `gutenberg_scraper`"
   ]
  },
  {
   "cell_type": "markdown",
   "id": "cc73535c-1915-45db-86c0-2dec95e19951",
   "metadata": {},
   "source": [
    "Since you only need to perform one function `fetch_text_data()` all of the other logic has been tucked away in a `.py` file. You can load the python file and function in like any other import as long as the file is present in your root directory. "
   ]
  },
  {
   "cell_type": "code",
   "execution_count": 3,
   "id": "baab7a12-d4f1-4838-b866-05b5dd4e1f0f",
   "metadata": {},
   "outputs": [],
   "source": [
    "from gutenberg_scraper import fetch_text_data"
   ]
  },
  {
   "cell_type": "code",
   "execution_count": 5,
   "id": "775e9168-0ab9-475c-9a6b-ab72ebb82143",
   "metadata": {
    "editable": true,
    "slideshow": {
     "slide_type": ""
    },
    "tags": []
   },
   "outputs": [],
   "source": [
    "import pickle\n",
    "with open('pg_catalog_clean.pickle', 'rb') as file:\n",
    "\n",
    "    data = pickle.load(file)\n",
    "df_new_york_history = data[\n",
    "    (data.language == 'en') & \n",
    "    (data.type == 'Text') &\n",
    "    (data.subjects.str.contains('new york', case=False,)) &\n",
    "    ~ (data.subjects.str.contains('fiction|speech*', case=False,)) &\n",
    "    (data.birth > 1600) &\n",
    "    ~ (data.subjects.str.contains('poetry|short story|travel|art|essay|biography|cooking', case=False,)) &\n",
    "    (data.subjects.str.contains('history', case=False,))\n",
    "] .copy ()\n",
    "\n",
    "df_new_york_history.to_pickle('pg_catalog_clean.pickle')"
   ]
  },
  {
   "cell_type": "code",
   "execution_count": 7,
   "id": "f8f5fe59-80c2-402b-8a04-0b03d971dcef",
   "metadata": {
    "editable": true,
    "slideshow": {
     "slide_type": ""
    },
    "tags": []
   },
   "outputs": [
    {
     "name": "stderr",
     "output_type": "stream",
     "text": [
      " 93%|███████████████████████████████████████▉   | 26/28 [07:01<00:34, 17.33s/it]ERROR:gutenberg_scraper:Error fetching https://www.gutenberg.org/ebooks/6/8/2/3/68232/68232-8.txt: ('Connection aborted.', RemoteDisconnected('Remote end closed connection without response'))\n",
      "100%|███████████████████████████████████████████| 28/28 [08:09<00:00, 17.50s/it]\n"
     ]
    },
    {
     "data": {
      "text/html": [
       "<div>\n",
       "<style scoped>\n",
       "    .dataframe tbody tr th:only-of-type {\n",
       "        vertical-align: middle;\n",
       "    }\n",
       "\n",
       "    .dataframe tbody tr th {\n",
       "        vertical-align: top;\n",
       "    }\n",
       "\n",
       "    .dataframe thead th {\n",
       "        text-align: right;\n",
       "    }\n",
       "</style>\n",
       "<table border=\"1\" class=\"dataframe\">\n",
       "  <thead>\n",
       "    <tr style=\"text-align: right;\">\n",
       "      <th></th>\n",
       "      <th>text_id</th>\n",
       "      <th>type</th>\n",
       "      <th>issued</th>\n",
       "      <th>title</th>\n",
       "      <th>language</th>\n",
       "      <th>subjects</th>\n",
       "      <th>locc</th>\n",
       "      <th>bookshelves</th>\n",
       "      <th>second_author</th>\n",
       "      <th>last_name</th>\n",
       "      <th>first_name</th>\n",
       "      <th>birth</th>\n",
       "      <th>death</th>\n",
       "      <th>text_data</th>\n",
       "    </tr>\n",
       "  </thead>\n",
       "  <tbody>\n",
       "    <tr>\n",
       "      <th>2096</th>\n",
       "      <td>2128</td>\n",
       "      <td>Text</td>\n",
       "      <td>2000-04-01</td>\n",
       "      <td>Narratives of New Netherland, 1609-1664</td>\n",
       "      <td>en</td>\n",
       "      <td>New York (State) -- History -- Colonial period...</td>\n",
       "      <td>F106</td>\n",
       "      <td>United States; Browsing: History - American; B...</td>\n",
       "      <td>&lt;NA&gt;</td>\n",
       "      <td>Jameson</td>\n",
       "      <td>J. Franklin (John Franklin)</td>\n",
       "      <td>1859</td>\n",
       "      <td>1937</td>\n",
       "      <td>***</td>\n",
       "    </tr>\n",
       "    <tr>\n",
       "      <th>3120</th>\n",
       "      <td>3161</td>\n",
       "      <td>Text</td>\n",
       "      <td>2002-04-01</td>\n",
       "      <td>Narratives of New Netherland, 1609-1664</td>\n",
       "      <td>en</td>\n",
       "      <td>New York (State) -- History -- Colonial period...</td>\n",
       "      <td>F106</td>\n",
       "      <td>Browsing: History - American; Browsing: Histor...</td>\n",
       "      <td>&lt;NA&gt;</td>\n",
       "      <td>Jameson</td>\n",
       "      <td>J. Franklin (John Franklin)</td>\n",
       "      <td>1859</td>\n",
       "      <td>1937</td>\n",
       "      <td>NARRATIVES OF NEW NETHERLAND, 1609-1664 ***\\r\\...</td>\n",
       "    </tr>\n",
       "    <tr>\n",
       "      <th>6814</th>\n",
       "      <td>6856</td>\n",
       "      <td>Text</td>\n",
       "      <td>2004-11-01</td>\n",
       "      <td>The Great Riots of New York, 1712 to 1873</td>\n",
       "      <td>en</td>\n",
       "      <td>Riots -- New York (State) -- New York; Draft R...</td>\n",
       "      <td>F106</td>\n",
       "      <td>Browsing: History - American; Browsing: Histor...</td>\n",
       "      <td>&lt;NA&gt;</td>\n",
       "      <td>Headley</td>\n",
       "      <td>Joel Tyler</td>\n",
       "      <td>1813</td>\n",
       "      <td>1897</td>\n",
       "      <td>THE GREAT RIOTS OF NEW YORK, 1712 TO 1873 ***\\...</td>\n",
       "    </tr>\n",
       "    <tr>\n",
       "      <th>7193</th>\n",
       "      <td>7235</td>\n",
       "      <td>Text</td>\n",
       "      <td>2005-01-01</td>\n",
       "      <td>The Bride of Fort Edward: Founded on an Incide...</td>\n",
       "      <td>en</td>\n",
       "      <td>Fort Edward (N.Y.) -- History -- Drama; New Yo...</td>\n",
       "      <td>PS</td>\n",
       "      <td>Browsing: History - American; Browsing: Fiction</td>\n",
       "      <td>&lt;NA&gt;</td>\n",
       "      <td>Bacon</td>\n",
       "      <td>Delia Salter</td>\n",
       "      <td>1811</td>\n",
       "      <td>1859</td>\n",
       "      <td>THE BRIDE OF FORT EDWARD: FOUNDED ON AN INCIDE...</td>\n",
       "    </tr>\n",
       "    <tr>\n",
       "      <th>12971</th>\n",
       "      <td>13042</td>\n",
       "      <td>Text</td>\n",
       "      <td>2004-07-29</td>\n",
       "      <td>Knickerbocker's History of New York, Complete</td>\n",
       "      <td>en</td>\n",
       "      <td>New York (State) -- History -- Colonial period...</td>\n",
       "      <td>F106</td>\n",
       "      <td>Browsing: History - American</td>\n",
       "      <td>&lt;NA&gt;</td>\n",
       "      <td>Irving</td>\n",
       "      <td>Washington</td>\n",
       "      <td>1783</td>\n",
       "      <td>1859</td>\n",
       "      <td>KNICKERBOCKER'S HISTORY OF NEW YORK, COMPLETE ...</td>\n",
       "    </tr>\n",
       "    <tr>\n",
       "      <th>13740</th>\n",
       "      <td>13811</td>\n",
       "      <td>Text</td>\n",
       "      <td>2004-10-20</td>\n",
       "      <td>Peter Stuyvesant, the Last Dutch Governor of N...</td>\n",
       "      <td>en</td>\n",
       "      <td>New York (State) -- History -- Colonial period...</td>\n",
       "      <td>F106</td>\n",
       "      <td>Browsing: History - American; Browsing: Histor...</td>\n",
       "      <td>&lt;NA&gt;</td>\n",
       "      <td>Abbott</td>\n",
       "      <td>John S. C. (John Stevens Cabot)</td>\n",
       "      <td>1805</td>\n",
       "      <td>1877</td>\n",
       "      <td>PETER STUYVESANT, THE LAST DUTCH GOVERNOR OF N...</td>\n",
       "    </tr>\n",
       "    <tr>\n",
       "      <th>21919</th>\n",
       "      <td>21990</td>\n",
       "      <td>Text</td>\n",
       "      <td>2007-07-03</td>\n",
       "      <td>The Campaign of 1776 around New York and Brook...</td>\n",
       "      <td>en</td>\n",
       "      <td>Long Island, Battle of, New York, N.Y., 1776; ...</td>\n",
       "      <td>E201</td>\n",
       "      <td>Browsing: History - American; Browsing: Histor...</td>\n",
       "      <td>&lt;NA&gt;</td>\n",
       "      <td>Johnston</td>\n",
       "      <td>Henry Phelps</td>\n",
       "      <td>1842</td>\n",
       "      <td>1923</td>\n",
       "      <td>THE CAMPAIGN OF 1776 AROUND NEW YORK AND BROOK...</td>\n",
       "    </tr>\n",
       "    <tr>\n",
       "      <th>24641</th>\n",
       "      <td>24712</td>\n",
       "      <td>Text</td>\n",
       "      <td>2008-02-28</td>\n",
       "      <td>The Negro at Work in New York City: A Study in...</td>\n",
       "      <td>en</td>\n",
       "      <td>African Americans -- History; African American...</td>\n",
       "      <td>E151; H</td>\n",
       "      <td>United States; Browsing: Culture/Civilization/...</td>\n",
       "      <td>&lt;NA&gt;</td>\n",
       "      <td>Haynes</td>\n",
       "      <td>George Edmund</td>\n",
       "      <td>1880</td>\n",
       "      <td>1960</td>\n",
       "      <td>THE NEGRO AT WORK IN NEW YORK CITY: A STUDY IN...</td>\n",
       "    </tr>\n",
       "    <tr>\n",
       "      <th>31901</th>\n",
       "      <td>31974</td>\n",
       "      <td>Text</td>\n",
       "      <td>2010-04-13</td>\n",
       "      <td>Last Days of the Rebellion  The Second New Yor...</td>\n",
       "      <td>en</td>\n",
       "      <td>United States -- History -- Civil War, 1861-18...</td>\n",
       "      <td>E456</td>\n",
       "      <td>Browsing: History - American; Browsing: Histor...</td>\n",
       "      <td>&lt;NA&gt;</td>\n",
       "      <td>Randol</td>\n",
       "      <td>Alanson M.</td>\n",
       "      <td>1837</td>\n",
       "      <td>1887</td>\n",
       "      <td>***</td>\n",
       "    </tr>\n",
       "    <tr>\n",
       "      <th>31940</th>\n",
       "      <td>32013</td>\n",
       "      <td>Text</td>\n",
       "      <td>2010-04-16</td>\n",
       "      <td>The Last Campaign of the Twenty-Second Regimen...</td>\n",
       "      <td>en</td>\n",
       "      <td>United States. Army. New York Infantry Regimen...</td>\n",
       "      <td>E456</td>\n",
       "      <td>US Civil War; Browsing: History - American; Br...</td>\n",
       "      <td>&lt;NA&gt;</td>\n",
       "      <td>Wingate</td>\n",
       "      <td>George Wood</td>\n",
       "      <td>1840</td>\n",
       "      <td>1928</td>\n",
       "      <td>THE LAST CAMPAIGN OF THE TWENTY-SECOND REGIMEN...</td>\n",
       "    </tr>\n",
       "    <tr>\n",
       "      <th>33207</th>\n",
       "      <td>33280</td>\n",
       "      <td>Text</td>\n",
       "      <td>2010-07-28</td>\n",
       "      <td>Civil War Experiences  under Bayard, Gregg, Ki...</td>\n",
       "      <td>en</td>\n",
       "      <td>United States -- History -- Civil War, 1861-18...</td>\n",
       "      <td>E456</td>\n",
       "      <td>US Civil War; Browsing: History - American; Br...</td>\n",
       "      <td>&lt;NA&gt;</td>\n",
       "      <td>Meyer</td>\n",
       "      <td>Henry C. (Henry Coddington)</td>\n",
       "      <td>1844</td>\n",
       "      <td>1935</td>\n",
       "      <td>***</td>\n",
       "    </tr>\n",
       "    <tr>\n",
       "      <th>33683</th>\n",
       "      <td>33756</td>\n",
       "      <td>Text</td>\n",
       "      <td>2010-09-18</td>\n",
       "      <td>Village Life in America 1852-1872, Including t...</td>\n",
       "      <td>en</td>\n",
       "      <td>Richards, Caroline Cowles, 1842-1913; Canandai...</td>\n",
       "      <td>F106</td>\n",
       "      <td>US Civil War; Browsing: Culture/Civilization/S...</td>\n",
       "      <td>Sangster, Margaret Elizabeth Munson, 1838-1912...</td>\n",
       "      <td>Richards</td>\n",
       "      <td>Caroline Cowles</td>\n",
       "      <td>1842</td>\n",
       "      <td>1913</td>\n",
       "      <td>VILLAGE LIFE IN AMERICA 1852-1872, INCLUDING T...</td>\n",
       "    </tr>\n",
       "    <tr>\n",
       "      <th>34904</th>\n",
       "      <td>34977</td>\n",
       "      <td>Text</td>\n",
       "      <td>2011-01-15</td>\n",
       "      <td>Dutch and English on the Hudson: A Chronicle o...</td>\n",
       "      <td>en</td>\n",
       "      <td>New York (State) -- History -- Colonial period...</td>\n",
       "      <td>E151; F106</td>\n",
       "      <td>Browsing: History - American; Browsing: Histor...</td>\n",
       "      <td>Jefferys, Charles W. (Charles William), 1869-1...</td>\n",
       "      <td>Goodwin</td>\n",
       "      <td>Maud Wilder</td>\n",
       "      <td>1856</td>\n",
       "      <td>1935</td>\n",
       "      <td>DUTCH AND ENGLISH ON THE HUDSON: A CHRONICLE O...</td>\n",
       "    </tr>\n",
       "    <tr>\n",
       "      <th>35646</th>\n",
       "      <td>35719</td>\n",
       "      <td>Text</td>\n",
       "      <td>2011-03-30</td>\n",
       "      <td>The History of the Five Indian Nations of Cana...</td>\n",
       "      <td>en</td>\n",
       "      <td>Pennsylvania -- History -- Colonial period, ca...</td>\n",
       "      <td>E011</td>\n",
       "      <td>Browsing: History - American</td>\n",
       "      <td>&lt;NA&gt;</td>\n",
       "      <td>Colden</td>\n",
       "      <td>Cadwallader</td>\n",
       "      <td>1688</td>\n",
       "      <td>1776</td>\n",
       "      <td>THE HISTORY OF THE FIVE INDIAN NATIONS OF CANA...</td>\n",
       "    </tr>\n",
       "    <tr>\n",
       "      <th>35647</th>\n",
       "      <td>35720</td>\n",
       "      <td>Text</td>\n",
       "      <td>2011-03-30</td>\n",
       "      <td>Papers Relating to an Act of the Assembly of t...</td>\n",
       "      <td>en</td>\n",
       "      <td>Iroquois Indians; New York (State) -- History ...</td>\n",
       "      <td>F106</td>\n",
       "      <td>Browsing: History - American; Browsing: Histor...</td>\n",
       "      <td>Great Britain. Board of Trade; Great Britain. ...</td>\n",
       "      <td>Colden</td>\n",
       "      <td>Cadwallader</td>\n",
       "      <td>1688</td>\n",
       "      <td>1776</td>\n",
       "      <td>PAPERS RELATING TO AN ACT OF THE ASSEMBLY OF T...</td>\n",
       "    </tr>\n",
       "    <tr>\n",
       "      <th>37347</th>\n",
       "      <td>37421</td>\n",
       "      <td>Text</td>\n",
       "      <td>2011-09-14</td>\n",
       "      <td>The Life and Times of Kateri Tekakwitha, the L...</td>\n",
       "      <td>en</td>\n",
       "      <td>New York (State) -- History -- Colonial period...</td>\n",
       "      <td>E011</td>\n",
       "      <td>Browsing: History - American; Browsing: Histor...</td>\n",
       "      <td>&lt;NA&gt;</td>\n",
       "      <td>Walworth</td>\n",
       "      <td>Ellen H. (Ellen Hardin)</td>\n",
       "      <td>1858</td>\n",
       "      <td>1932</td>\n",
       "      <td>THE LIFE AND TIMES OF KATERI TEKAKWITHA, THE L...</td>\n",
       "    </tr>\n",
       "    <tr>\n",
       "      <th>38947</th>\n",
       "      <td>39021</td>\n",
       "      <td>Text</td>\n",
       "      <td>2012-03-01</td>\n",
       "      <td>The Story of the Rome, Watertown, and Ogdensbu...</td>\n",
       "      <td>en</td>\n",
       "      <td>Rome, Watertown &amp; Ogdensburg Railroad Company;...</td>\n",
       "      <td>F106; HE</td>\n",
       "      <td>Browsing: History - American; Browsing: Histor...</td>\n",
       "      <td>&lt;NA&gt;</td>\n",
       "      <td>Hungerford</td>\n",
       "      <td>Edward</td>\n",
       "      <td>1875</td>\n",
       "      <td>1948</td>\n",
       "      <td>THE STORY OF THE ROME, WATERTOWN, AND OGDENSBU...</td>\n",
       "    </tr>\n",
       "    <tr>\n",
       "      <th>40816</th>\n",
       "      <td>40890</td>\n",
       "      <td>Text</td>\n",
       "      <td>2012-09-28</td>\n",
       "      <td>Diary of an Enlisted Man</td>\n",
       "      <td>en</td>\n",
       "      <td>United States -- History -- Civil War, 1861-18...</td>\n",
       "      <td>E456</td>\n",
       "      <td>Browsing: History - American; Browsing: Histor...</td>\n",
       "      <td>&lt;NA&gt;</td>\n",
       "      <td>Van Alstyne</td>\n",
       "      <td>Lawrence</td>\n",
       "      <td>1839</td>\n",
       "      <td>1923</td>\n",
       "      <td>***</td>\n",
       "    </tr>\n",
       "    <tr>\n",
       "      <th>43488</th>\n",
       "      <td>43562</td>\n",
       "      <td>Text</td>\n",
       "      <td>2013-08-26</td>\n",
       "      <td>Company G</td>\n",
       "      <td>en</td>\n",
       "      <td>United States -- History -- Civil War, 1861-18...</td>\n",
       "      <td>E456</td>\n",
       "      <td>Browsing: History - American; Browsing: Histor...</td>\n",
       "      <td>&lt;NA&gt;</td>\n",
       "      <td>Barlow</td>\n",
       "      <td>A. R. (Albert Rowe)</td>\n",
       "      <td>1841</td>\n",
       "      <td>1913</td>\n",
       "      <td>COMPANY G ***\\r\\n\\r\\n\\r\\nE-text prepared by th...</td>\n",
       "    </tr>\n",
       "    <tr>\n",
       "      <th>49107</th>\n",
       "      <td>49181</td>\n",
       "      <td>Text</td>\n",
       "      <td>2015-06-09</td>\n",
       "      <td>The Fool: A Play in Four Acts</td>\n",
       "      <td>en</td>\n",
       "      <td>American drama -- 20th century; Clergy -- Dram...</td>\n",
       "      <td>PS</td>\n",
       "      <td>Browsing: Culture/Civilization/Society; Browsi...</td>\n",
       "      <td>&lt;NA&gt;</td>\n",
       "      <td>Pollock</td>\n",
       "      <td>Channing</td>\n",
       "      <td>1880</td>\n",
       "      <td>1946</td>\n",
       "      <td>THE FOOL: A PLAY IN FOUR ACTS ***\\r\\n\\r\\n\\r\\n\\...</td>\n",
       "    </tr>\n",
       "    <tr>\n",
       "      <th>56004</th>\n",
       "      <td>56078</td>\n",
       "      <td>Text</td>\n",
       "      <td>2017-11-29</td>\n",
       "      <td>Notes Geographical and Historical, Relating to...</td>\n",
       "      <td>en</td>\n",
       "      <td>Brooklyn (New York, N.Y.) -- History</td>\n",
       "      <td>F106</td>\n",
       "      <td>Browsing: History - American; Browsing: Histor...</td>\n",
       "      <td>&lt;NA&gt;</td>\n",
       "      <td>Furman</td>\n",
       "      <td>Gabriel</td>\n",
       "      <td>1800</td>\n",
       "      <td>1854</td>\n",
       "      <td>NOTES GEOGRAPHICAL AND HISTORICAL, RELATING TO...</td>\n",
       "    </tr>\n",
       "    <tr>\n",
       "      <th>58049</th>\n",
       "      <td>58125</td>\n",
       "      <td>Text</td>\n",
       "      <td>2018-10-17</td>\n",
       "      <td>Colonel Henry Ludington: A Memoir</td>\n",
       "      <td>en</td>\n",
       "      <td>Ludington, Henry, 1739-1817; New York (State) ...</td>\n",
       "      <td>E201</td>\n",
       "      <td>Browsing: Biographies; Browsing: History - Ame...</td>\n",
       "      <td>&lt;NA&gt;</td>\n",
       "      <td>Johnson</td>\n",
       "      <td>Willis Fletcher</td>\n",
       "      <td>1857</td>\n",
       "      <td>1931</td>\n",
       "      <td>***</td>\n",
       "    </tr>\n",
       "    <tr>\n",
       "      <th>58404</th>\n",
       "      <td>58480</td>\n",
       "      <td>Text</td>\n",
       "      <td>2018-12-17</td>\n",
       "      <td>Perry's Saints; Or, The Fighting Parson's Regi...</td>\n",
       "      <td>en</td>\n",
       "      <td>United States -- History -- Civil War, 1861-18...</td>\n",
       "      <td>E456</td>\n",
       "      <td>Browsing: History - American; Browsing: Histor...</td>\n",
       "      <td>&lt;NA&gt;</td>\n",
       "      <td>Nichols</td>\n",
       "      <td>James Moses</td>\n",
       "      <td>1835</td>\n",
       "      <td>1886</td>\n",
       "      <td>PERRY'S SAINTS; OR, THE FIGHTING PARSON'S REGI...</td>\n",
       "    </tr>\n",
       "    <tr>\n",
       "      <th>59822</th>\n",
       "      <td>59899</td>\n",
       "      <td>Text</td>\n",
       "      <td>2019-07-10</td>\n",
       "      <td>Ten Days in a Mad-House; or, Nellie Bly's Expe...</td>\n",
       "      <td>en</td>\n",
       "      <td>N.Y. City Lunatic Asylum; Bly, Nellie, 1864-19...</td>\n",
       "      <td>RC</td>\n",
       "      <td>Browsing: Health &amp; Medicine; Browsing: History...</td>\n",
       "      <td>&lt;NA&gt;</td>\n",
       "      <td>Bly</td>\n",
       "      <td>Nellie</td>\n",
       "      <td>1864</td>\n",
       "      <td>1922</td>\n",
       "      <td>TEN DAYS IN A MAD-HOUSE; OR, NELLIE BLY'S EXPE...</td>\n",
       "    </tr>\n",
       "    <tr>\n",
       "      <th>60806</th>\n",
       "      <td>60883</td>\n",
       "      <td>Text</td>\n",
       "      <td>2019-12-08</td>\n",
       "      <td>Sketches in Prison Camps: A Continuation of Sk...</td>\n",
       "      <td>en</td>\n",
       "      <td>United States -- History -- Civil War, 1861-18...</td>\n",
       "      <td>E456</td>\n",
       "      <td>Browsing: History - American; Browsing: Histor...</td>\n",
       "      <td>&lt;NA&gt;</td>\n",
       "      <td>Nott</td>\n",
       "      <td>Charles C.</td>\n",
       "      <td>1827</td>\n",
       "      <td>1916</td>\n",
       "      <td>***</td>\n",
       "    </tr>\n",
       "    <tr>\n",
       "      <th>68153</th>\n",
       "      <td>68232</td>\n",
       "      <td>Text</td>\n",
       "      <td>2022-06-04</td>\n",
       "      <td>The story of the Thirty-Third N. Y. S. Vols  o...</td>\n",
       "      <td>en</td>\n",
       "      <td>United States -- History -- Civil War, 1861-18...</td>\n",
       "      <td>E456</td>\n",
       "      <td>Browsing: History - American; Browsing: Histor...</td>\n",
       "      <td>&lt;NA&gt;</td>\n",
       "      <td>Judd</td>\n",
       "      <td>David Wright</td>\n",
       "      <td>1838</td>\n",
       "      <td>1888</td>\n",
       "      <td>THE STORY OF THE THIRTY-THIRD N. Y. S. VOLS **...</td>\n",
       "    </tr>\n",
       "    <tr>\n",
       "      <th>69983</th>\n",
       "      <td>70129</td>\n",
       "      <td>Text</td>\n",
       "      <td>2023-02-24</td>\n",
       "      <td>General Washington's spies on Long Island and ...</td>\n",
       "      <td>en</td>\n",
       "      <td>New York (N.Y.) -- History -- Revolution, 1775...</td>\n",
       "      <td>E201</td>\n",
       "      <td>Browsing: History - American; Browsing: Histor...</td>\n",
       "      <td>&lt;NA&gt;</td>\n",
       "      <td>Pennypacker</td>\n",
       "      <td>Morton</td>\n",
       "      <td>1872</td>\n",
       "      <td>1956</td>\n",
       "      <td>GENERAL WASHINGTON'S SPIES ON LONG ISLAND AND ...</td>\n",
       "    </tr>\n",
       "    <tr>\n",
       "      <th>72161</th>\n",
       "      <td>72327</td>\n",
       "      <td>Text</td>\n",
       "      <td>2023-12-05</td>\n",
       "      <td>Colonial days in old New York</td>\n",
       "      <td>en</td>\n",
       "      <td>New York (State) -- History -- Colonial period...</td>\n",
       "      <td>F106</td>\n",
       "      <td>Browsing: Culture/Civilization/Society; Browsi...</td>\n",
       "      <td>&lt;NA&gt;</td>\n",
       "      <td>Earle</td>\n",
       "      <td>Alice Morse</td>\n",
       "      <td>1851</td>\n",
       "      <td>1911</td>\n",
       "      <td>COLONIAL DAYS IN OLD NEW YORK ***\\r\\n\\r\\n\\r\\n\\...</td>\n",
       "    </tr>\n",
       "  </tbody>\n",
       "</table>\n",
       "</div>"
      ],
      "text/plain": [
       "       text_id  type      issued  \\\n",
       "2096      2128  Text  2000-04-01   \n",
       "3120      3161  Text  2002-04-01   \n",
       "6814      6856  Text  2004-11-01   \n",
       "7193      7235  Text  2005-01-01   \n",
       "12971    13042  Text  2004-07-29   \n",
       "13740    13811  Text  2004-10-20   \n",
       "21919    21990  Text  2007-07-03   \n",
       "24641    24712  Text  2008-02-28   \n",
       "31901    31974  Text  2010-04-13   \n",
       "31940    32013  Text  2010-04-16   \n",
       "33207    33280  Text  2010-07-28   \n",
       "33683    33756  Text  2010-09-18   \n",
       "34904    34977  Text  2011-01-15   \n",
       "35646    35719  Text  2011-03-30   \n",
       "35647    35720  Text  2011-03-30   \n",
       "37347    37421  Text  2011-09-14   \n",
       "38947    39021  Text  2012-03-01   \n",
       "40816    40890  Text  2012-09-28   \n",
       "43488    43562  Text  2013-08-26   \n",
       "49107    49181  Text  2015-06-09   \n",
       "56004    56078  Text  2017-11-29   \n",
       "58049    58125  Text  2018-10-17   \n",
       "58404    58480  Text  2018-12-17   \n",
       "59822    59899  Text  2019-07-10   \n",
       "60806    60883  Text  2019-12-08   \n",
       "68153    68232  Text  2022-06-04   \n",
       "69983    70129  Text  2023-02-24   \n",
       "72161    72327  Text  2023-12-05   \n",
       "\n",
       "                                                   title language  \\\n",
       "2096             Narratives of New Netherland, 1609-1664       en   \n",
       "3120             Narratives of New Netherland, 1609-1664       en   \n",
       "6814           The Great Riots of New York, 1712 to 1873       en   \n",
       "7193   The Bride of Fort Edward: Founded on an Incide...       en   \n",
       "12971      Knickerbocker's History of New York, Complete       en   \n",
       "13740  Peter Stuyvesant, the Last Dutch Governor of N...       en   \n",
       "21919  The Campaign of 1776 around New York and Brook...       en   \n",
       "24641  The Negro at Work in New York City: A Study in...       en   \n",
       "31901  Last Days of the Rebellion  The Second New Yor...       en   \n",
       "31940  The Last Campaign of the Twenty-Second Regimen...       en   \n",
       "33207  Civil War Experiences  under Bayard, Gregg, Ki...       en   \n",
       "33683  Village Life in America 1852-1872, Including t...       en   \n",
       "34904  Dutch and English on the Hudson: A Chronicle o...       en   \n",
       "35646  The History of the Five Indian Nations of Cana...       en   \n",
       "35647  Papers Relating to an Act of the Assembly of t...       en   \n",
       "37347  The Life and Times of Kateri Tekakwitha, the L...       en   \n",
       "38947  The Story of the Rome, Watertown, and Ogdensbu...       en   \n",
       "40816                           Diary of an Enlisted Man       en   \n",
       "43488                                          Company G       en   \n",
       "49107                      The Fool: A Play in Four Acts       en   \n",
       "56004  Notes Geographical and Historical, Relating to...       en   \n",
       "58049                  Colonel Henry Ludington: A Memoir       en   \n",
       "58404  Perry's Saints; Or, The Fighting Parson's Regi...       en   \n",
       "59822  Ten Days in a Mad-House; or, Nellie Bly's Expe...       en   \n",
       "60806  Sketches in Prison Camps: A Continuation of Sk...       en   \n",
       "68153  The story of the Thirty-Third N. Y. S. Vols  o...       en   \n",
       "69983  General Washington's spies on Long Island and ...       en   \n",
       "72161                      Colonial days in old New York       en   \n",
       "\n",
       "                                                subjects        locc  \\\n",
       "2096   New York (State) -- History -- Colonial period...        F106   \n",
       "3120   New York (State) -- History -- Colonial period...        F106   \n",
       "6814   Riots -- New York (State) -- New York; Draft R...        F106   \n",
       "7193   Fort Edward (N.Y.) -- History -- Drama; New Yo...          PS   \n",
       "12971  New York (State) -- History -- Colonial period...        F106   \n",
       "13740  New York (State) -- History -- Colonial period...        F106   \n",
       "21919  Long Island, Battle of, New York, N.Y., 1776; ...        E201   \n",
       "24641  African Americans -- History; African American...     E151; H   \n",
       "31901  United States -- History -- Civil War, 1861-18...        E456   \n",
       "31940  United States. Army. New York Infantry Regimen...        E456   \n",
       "33207  United States -- History -- Civil War, 1861-18...        E456   \n",
       "33683  Richards, Caroline Cowles, 1842-1913; Canandai...        F106   \n",
       "34904  New York (State) -- History -- Colonial period...  E151; F106   \n",
       "35646  Pennsylvania -- History -- Colonial period, ca...        E011   \n",
       "35647  Iroquois Indians; New York (State) -- History ...        F106   \n",
       "37347  New York (State) -- History -- Colonial period...        E011   \n",
       "38947  Rome, Watertown & Ogdensburg Railroad Company;...    F106; HE   \n",
       "40816  United States -- History -- Civil War, 1861-18...        E456   \n",
       "43488  United States -- History -- Civil War, 1861-18...        E456   \n",
       "49107  American drama -- 20th century; Clergy -- Dram...          PS   \n",
       "56004               Brooklyn (New York, N.Y.) -- History        F106   \n",
       "58049  Ludington, Henry, 1739-1817; New York (State) ...        E201   \n",
       "58404  United States -- History -- Civil War, 1861-18...        E456   \n",
       "59822  N.Y. City Lunatic Asylum; Bly, Nellie, 1864-19...          RC   \n",
       "60806  United States -- History -- Civil War, 1861-18...        E456   \n",
       "68153  United States -- History -- Civil War, 1861-18...        E456   \n",
       "69983  New York (N.Y.) -- History -- Revolution, 1775...        E201   \n",
       "72161  New York (State) -- History -- Colonial period...        F106   \n",
       "\n",
       "                                             bookshelves  \\\n",
       "2096   United States; Browsing: History - American; B...   \n",
       "3120   Browsing: History - American; Browsing: Histor...   \n",
       "6814   Browsing: History - American; Browsing: Histor...   \n",
       "7193     Browsing: History - American; Browsing: Fiction   \n",
       "12971                       Browsing: History - American   \n",
       "13740  Browsing: History - American; Browsing: Histor...   \n",
       "21919  Browsing: History - American; Browsing: Histor...   \n",
       "24641  United States; Browsing: Culture/Civilization/...   \n",
       "31901  Browsing: History - American; Browsing: Histor...   \n",
       "31940  US Civil War; Browsing: History - American; Br...   \n",
       "33207  US Civil War; Browsing: History - American; Br...   \n",
       "33683  US Civil War; Browsing: Culture/Civilization/S...   \n",
       "34904  Browsing: History - American; Browsing: Histor...   \n",
       "35646                       Browsing: History - American   \n",
       "35647  Browsing: History - American; Browsing: Histor...   \n",
       "37347  Browsing: History - American; Browsing: Histor...   \n",
       "38947  Browsing: History - American; Browsing: Histor...   \n",
       "40816  Browsing: History - American; Browsing: Histor...   \n",
       "43488  Browsing: History - American; Browsing: Histor...   \n",
       "49107  Browsing: Culture/Civilization/Society; Browsi...   \n",
       "56004  Browsing: History - American; Browsing: Histor...   \n",
       "58049  Browsing: Biographies; Browsing: History - Ame...   \n",
       "58404  Browsing: History - American; Browsing: Histor...   \n",
       "59822  Browsing: Health & Medicine; Browsing: History...   \n",
       "60806  Browsing: History - American; Browsing: Histor...   \n",
       "68153  Browsing: History - American; Browsing: Histor...   \n",
       "69983  Browsing: History - American; Browsing: Histor...   \n",
       "72161  Browsing: Culture/Civilization/Society; Browsi...   \n",
       "\n",
       "                                           second_author    last_name  \\\n",
       "2096                                                <NA>      Jameson   \n",
       "3120                                                <NA>      Jameson   \n",
       "6814                                                <NA>      Headley   \n",
       "7193                                                <NA>        Bacon   \n",
       "12971                                               <NA>       Irving   \n",
       "13740                                               <NA>       Abbott   \n",
       "21919                                               <NA>     Johnston   \n",
       "24641                                               <NA>       Haynes   \n",
       "31901                                               <NA>       Randol   \n",
       "31940                                               <NA>      Wingate   \n",
       "33207                                               <NA>        Meyer   \n",
       "33683  Sangster, Margaret Elizabeth Munson, 1838-1912...     Richards   \n",
       "34904  Jefferys, Charles W. (Charles William), 1869-1...      Goodwin   \n",
       "35646                                               <NA>       Colden   \n",
       "35647  Great Britain. Board of Trade; Great Britain. ...       Colden   \n",
       "37347                                               <NA>     Walworth   \n",
       "38947                                               <NA>   Hungerford   \n",
       "40816                                               <NA>  Van Alstyne   \n",
       "43488                                               <NA>       Barlow   \n",
       "49107                                               <NA>      Pollock   \n",
       "56004                                               <NA>       Furman   \n",
       "58049                                               <NA>      Johnson   \n",
       "58404                                               <NA>      Nichols   \n",
       "59822                                               <NA>          Bly   \n",
       "60806                                               <NA>         Nott   \n",
       "68153                                               <NA>         Judd   \n",
       "69983                                               <NA>  Pennypacker   \n",
       "72161                                               <NA>        Earle   \n",
       "\n",
       "                            first_name  birth  death  \\\n",
       "2096       J. Franklin (John Franklin)   1859   1937   \n",
       "3120       J. Franklin (John Franklin)   1859   1937   \n",
       "6814                        Joel Tyler   1813   1897   \n",
       "7193                      Delia Salter   1811   1859   \n",
       "12971                       Washington   1783   1859   \n",
       "13740  John S. C. (John Stevens Cabot)   1805   1877   \n",
       "21919                     Henry Phelps   1842   1923   \n",
       "24641                    George Edmund   1880   1960   \n",
       "31901                       Alanson M.   1837   1887   \n",
       "31940                      George Wood   1840   1928   \n",
       "33207      Henry C. (Henry Coddington)   1844   1935   \n",
       "33683                  Caroline Cowles   1842   1913   \n",
       "34904                      Maud Wilder   1856   1935   \n",
       "35646                      Cadwallader   1688   1776   \n",
       "35647                      Cadwallader   1688   1776   \n",
       "37347          Ellen H. (Ellen Hardin)   1858   1932   \n",
       "38947                           Edward   1875   1948   \n",
       "40816                         Lawrence   1839   1923   \n",
       "43488              A. R. (Albert Rowe)   1841   1913   \n",
       "49107                         Channing   1880   1946   \n",
       "56004                          Gabriel   1800   1854   \n",
       "58049                  Willis Fletcher   1857   1931   \n",
       "58404                      James Moses   1835   1886   \n",
       "59822                           Nellie   1864   1922   \n",
       "60806                       Charles C.   1827   1916   \n",
       "68153                     David Wright   1838   1888   \n",
       "69983                           Morton   1872   1956   \n",
       "72161                      Alice Morse   1851   1911   \n",
       "\n",
       "                                               text_data  \n",
       "2096                                                 ***  \n",
       "3120   NARRATIVES OF NEW NETHERLAND, 1609-1664 ***\\r\\...  \n",
       "6814   THE GREAT RIOTS OF NEW YORK, 1712 TO 1873 ***\\...  \n",
       "7193   THE BRIDE OF FORT EDWARD: FOUNDED ON AN INCIDE...  \n",
       "12971  KNICKERBOCKER'S HISTORY OF NEW YORK, COMPLETE ...  \n",
       "13740  PETER STUYVESANT, THE LAST DUTCH GOVERNOR OF N...  \n",
       "21919  THE CAMPAIGN OF 1776 AROUND NEW YORK AND BROOK...  \n",
       "24641  THE NEGRO AT WORK IN NEW YORK CITY: A STUDY IN...  \n",
       "31901                                                ***  \n",
       "31940  THE LAST CAMPAIGN OF THE TWENTY-SECOND REGIMEN...  \n",
       "33207                                                ***  \n",
       "33683  VILLAGE LIFE IN AMERICA 1852-1872, INCLUDING T...  \n",
       "34904  DUTCH AND ENGLISH ON THE HUDSON: A CHRONICLE O...  \n",
       "35646  THE HISTORY OF THE FIVE INDIAN NATIONS OF CANA...  \n",
       "35647  PAPERS RELATING TO AN ACT OF THE ASSEMBLY OF T...  \n",
       "37347  THE LIFE AND TIMES OF KATERI TEKAKWITHA, THE L...  \n",
       "38947  THE STORY OF THE ROME, WATERTOWN, AND OGDENSBU...  \n",
       "40816                                                ***  \n",
       "43488  COMPANY G ***\\r\\n\\r\\n\\r\\nE-text prepared by th...  \n",
       "49107  THE FOOL: A PLAY IN FOUR ACTS ***\\r\\n\\r\\n\\r\\n\\...  \n",
       "56004  NOTES GEOGRAPHICAL AND HISTORICAL, RELATING TO...  \n",
       "58049                                                ***  \n",
       "58404  PERRY'S SAINTS; OR, THE FIGHTING PARSON'S REGI...  \n",
       "59822  TEN DAYS IN A MAD-HOUSE; OR, NELLIE BLY'S EXPE...  \n",
       "60806                                                ***  \n",
       "68153  THE STORY OF THE THIRTY-THIRD N. Y. S. VOLS **...  \n",
       "69983  GENERAL WASHINGTON'S SPIES ON LONG ISLAND AND ...  \n",
       "72161  COLONIAL DAYS IN OLD NEW YORK ***\\r\\n\\r\\n\\r\\n\\...  "
      ]
     },
     "execution_count": 7,
     "metadata": {},
     "output_type": "execute_result"
    }
   ],
   "source": [
    "fetch_text_data(df_new_york_history)"
   ]
  },
  {
   "cell_type": "markdown",
   "id": "f2659202-82ef-47a5-93e3-69ff6b84c3e1",
   "metadata": {
    "editable": true,
    "slideshow": {
     "slide_type": ""
    },
    "tags": []
   },
   "source": [
    "### Export Pickle 1\n",
    "\n",
    "![](save.png)\n",
    "\n",
    "Export the file as a `pickle` file for presentation.\n",
    "\n",
    "```python\n",
    "YOUR_DATAFRAME.to_pickle('YOUR_DATAFRAME_TEXTS.pickle')\n",
    "```\n"
   ]
  },
  {
   "cell_type": "code",
   "execution_count": 12,
   "id": "6ee62a65-f034-4e4e-945e-8dfa7143d616",
   "metadata": {
    "editable": true,
    "slideshow": {
     "slide_type": ""
    },
    "tags": []
   },
   "outputs": [],
   "source": [
    "df_new_york_history.to_pickle('df_new_york_history.pickle')"
   ]
  },
  {
   "cell_type": "markdown",
   "id": "12b28cc7-6edc-474f-a040-c3bc3195c599",
   "metadata": {
    "editable": true,
    "slideshow": {
     "slide_type": ""
    },
    "tags": []
   },
   "source": [
    "---"
   ]
  },
  {
   "cell_type": "markdown",
   "id": "8023ebcb-8e19-42f8-8697-9dd2c601bc8d",
   "metadata": {
    "editable": true,
    "slideshow": {
     "slide_type": ""
    },
    "tags": []
   },
   "source": [
    "![](edit-code.png)"
   ]
  },
  {
   "cell_type": "markdown",
   "id": "00866dad-11dd-4503-89da-618a7bf8cbbf",
   "metadata": {
    "editable": true,
    "slideshow": {
     "slide_type": ""
    },
    "tags": []
   },
   "source": [
    "## 4 Clean DataFrame for Analysis"
   ]
  },
  {
   "cell_type": "markdown",
   "id": "bd300887-ac66-40d0-89e3-e5cd9e70f019",
   "metadata": {
    "editable": true,
    "slideshow": {
     "slide_type": ""
    },
    "tags": []
   },
   "source": [
    "To prepare our data for analysis we will: \n",
    "\n",
    "- Split it into sentences\n",
    "- Clean the individual sentences\n",
    "- Drop unnecessary data\n",
    "\n",
    "For the code below you will have to replace `YOUR_DATAFRAME` with the name of your dataframe."
   ]
  },
  {
   "cell_type": "markdown",
   "id": "5efeff86-0969-4373-820c-0979e952d5c3",
   "metadata": {},
   "source": [
    "### Import `NLTK`"
   ]
  },
  {
   "cell_type": "markdown",
   "id": "26b555d9-b0be-42b9-a393-f4caf4eedf0b",
   "metadata": {},
   "source": [
    "We can use NLTK for some basic preprocessing.\n",
    "\n",
    "```python\n",
    "import nltk\n",
    "import re\n",
    "```"
   ]
  },
  {
   "cell_type": "code",
   "execution_count": 9,
   "id": "df8c025a-74d4-47b1-9348-3454000b3308",
   "metadata": {},
   "outputs": [],
   "source": [
    "import nltk\n",
    "import re"
   ]
  },
  {
   "cell_type": "markdown",
   "id": "75ddb570-bbea-4e67-920a-b2416528b8cd",
   "metadata": {},
   "source": [
    "### Step 1: Tokenize Text into Sentences"
   ]
  },
  {
   "cell_type": "code",
   "execution_count": 10,
   "id": "a4625bbb-dc5b-4876-9e5d-034592781008",
   "metadata": {
    "editable": true,
    "slideshow": {
     "slide_type": ""
    },
    "tags": []
   },
   "outputs": [],
   "source": [
    "df_new_york_history = df_new_york_history.assign(\n",
    "    sentences = df_new_york_history['text_data'].apply(nltk.sent_tokenize)\n",
    ").explode('sentences')"
   ]
  },
  {
   "cell_type": "markdown",
   "id": "927422b1-dec5-4605-980d-9e793f7e088b",
   "metadata": {},
   "source": [
    "### Step 2: Remove the 'text_data' column "
   ]
  },
  {
   "cell_type": "code",
   "execution_count": 12,
   "id": "6bf1172f-38a5-424b-b7a0-9253f3aa4ce8",
   "metadata": {
    "editable": true,
    "slideshow": {
     "slide_type": ""
    },
    "tags": []
   },
   "outputs": [],
   "source": [
    "df_new_york_history = df_new_york_history.drop(columns='text_data')"
   ]
  },
  {
   "cell_type": "markdown",
   "id": "a7e2f7bd-0c9d-4a63-b967-f0ebee9eb176",
   "metadata": {},
   "source": [
    "### Step 3: Define a Cleaning Function for Sentences"
   ]
  },
  {
   "cell_type": "code",
   "execution_count": 15,
   "id": "ad18ac15-75ad-4dca-a43c-84ddd832e49d",
   "metadata": {
    "editable": true,
    "slideshow": {
     "slide_type": ""
    },
    "tags": []
   },
   "outputs": [],
   "source": [
    "def clean_sentence(sentence):\n",
    "    # 1. Remove text inside square brackets\n",
    "    sentence = re.sub(r'\\[.*?\\]', '', sentence)\n",
    "    # 2. Remove unwanted punctuation but retain sentence-ending punctuation\n",
    "    sentence = re.sub(r'[^\\w\\s,.!?\\'\"‘’“”`]', '', sentence)\n",
    "    # 3. Remove newline and carriage return characters, and underscores\n",
    "    sentence = sentence.replace('\\n', ' ').replace('\\r', ' ').replace('_', '')\n",
    "    # 4. Return an empty string for all-uppercase sentences (likely headers or TOC entries)\n",
    "    return '' if sentence.isupper() else sentence"
   ]
  },
  {
   "cell_type": "markdown",
   "id": "73ea310d-6b6e-4a26-a8e6-8a755d47ae26",
   "metadata": {},
   "source": [
    "### Step 4: Apply Cleaning and Remove Empty Sentences"
   ]
  },
  {
   "cell_type": "code",
   "execution_count": 17,
   "id": "8b711517-7800-400c-a71f-0638f405f07b",
   "metadata": {
    "editable": true,
    "slideshow": {
     "slide_type": ""
    },
    "tags": []
   },
   "outputs": [],
   "source": [
    "df_new_york_history['cleaned_sentences'] = df_new_york_history['sentences'].apply(clean_sentence)\n",
    "df_new_york_history = df_new_york_history[df_new_york_history['sentences'] != '']\n"
   ]
  },
  {
   "cell_type": "markdown",
   "id": "6bd44120-c579-4e11-bb24-ab9123d2f249",
   "metadata": {},
   "source": [
    "### Step 5: Reset Index for the Cleaned DataFrame"
   ]
  },
  {
   "cell_type": "code",
   "execution_count": 19,
   "id": "48e9b05c-6c30-4d7e-b1f4-5f185f3dbd27",
   "metadata": {
    "editable": true,
    "slideshow": {
     "slide_type": ""
    },
    "tags": []
   },
   "outputs": [],
   "source": [
    "df_new_york_history = df_new_york_history.reset_index(drop=True)\n"
   ]
  },
  {
   "cell_type": "markdown",
   "id": "11506913-a96b-4e7d-b0fb-00dfde26e71b",
   "metadata": {
    "editable": true,
    "slideshow": {
     "slide_type": ""
    },
    "tags": []
   },
   "source": [
    "### Step 6: (OPTIONAL) Save deep copy of dataframe and pickle"
   ]
  },
  {
   "cell_type": "code",
   "execution_count": 21,
   "id": "9f024a95-3af8-43df-9e35-45c237a53f1b",
   "metadata": {
    "editable": true,
    "slideshow": {
     "slide_type": ""
    },
    "tags": []
   },
   "outputs": [],
   "source": [
    "df_new_york_history_DEEP = df_new_york_history.copy()\n",
    "df_new_york_history_DEEP.to_pickle('df_new_york_history_DEEP.pickle')"
   ]
  },
  {
   "cell_type": "markdown",
   "id": "12f8df70-eeb6-4c60-accf-aa05e80343e6",
   "metadata": {},
   "source": [
    "---"
   ]
  },
  {
   "cell_type": "markdown",
   "id": "1046f5d8-92db-49ef-a1d3-5bb282a14b2e",
   "metadata": {
    "editable": true,
    "slideshow": {
     "slide_type": ""
    },
    "tags": []
   },
   "source": [
    "## 5 Perform Initial Tokenization"
   ]
  },
  {
   "cell_type": "markdown",
   "id": "a15fae02-24dd-41b1-999d-af44280842e2",
   "metadata": {
    "editable": true,
    "slideshow": {
     "slide_type": ""
    },
    "tags": []
   },
   "source": [
    "### Overview\n",
    "\n",
    "Since the geoparsing process is quite intense, we can actually reduce our processing overhead a bit by eliminating those sentences that likely don't have toponyms. We can do so by first running a pass with the lightweight `en_core_web_sm` `spacy` library"
   ]
  },
  {
   "cell_type": "markdown",
   "id": "4cea9d11-153f-429b-b48b-25486ec59588",
   "metadata": {},
   "source": [
    "### Load Spacy\n",
    "We are going to load spacy and the small library at the same time.\n",
    "\n"
   ]
  },
  {
   "cell_type": "code",
   "execution_count": 23,
   "id": "3067a82d-bb79-4a02-b0df-07f9dc72c254",
   "metadata": {},
   "outputs": [],
   "source": [
    "import spacy\n",
    "from tqdm import tqdm\n",
    "tqdm.pandas()\n",
    "nlp = spacy.load('en_core_web_sm')"
   ]
  },
  {
   "cell_type": "markdown",
   "id": "73517785-c924-4a20-8877-507c5ec933e8",
   "metadata": {},
   "source": [
    "#### Load Functions into memory"
   ]
  },
  {
   "cell_type": "code",
   "execution_count": 24,
   "id": "ba8f6e52-bad8-49c5-b91f-5c82e911be9f",
   "metadata": {},
   "outputs": [],
   "source": [
    "# Function to extract GPE (Geopolitical Entities) from a batch of docs\n",
    "def extract_gpe_from_docs(docs):\n",
    "    return [[ent.text for ent in doc.ents if ent.label_ == 'GPE'] or None for doc in docs]\n",
    "\n",
    "# Use nlp.pipe() for faster batch processing with multiple cores\n",
    "def process_sentences_in_batches(sentences, batch_size=50, n_process=-1):\n",
    "    # Process sentences using nlp.pipe with batch processing and multi-processing\n",
    "    gpe_results = []\n",
    "    for doc in tqdm(nlp.pipe(sentences, batch_size=batch_size, n_process=n_process), total=len(sentences)):\n",
    "        gpes = [ent.text for ent in doc.ents if ent.label_ == 'GPE']\n",
    "        gpe_results.append(gpes if gpes else None)\n",
    "    return gpe_results"
   ]
  },
  {
   "cell_type": "markdown",
   "id": "c2e9771e-7377-4882-8457-f0ddc8f59558",
   "metadata": {},
   "source": [
    "#### Process your DataFrame"
   ]
  },
  {
   "cell_type": "code",
   "execution_count": 27,
   "id": "9c08dcf1-9d1d-43f7-b539-a7aa37ac344c",
   "metadata": {
    "editable": true,
    "slideshow": {
     "slide_type": ""
    },
    "tags": []
   },
   "outputs": [
    {
     "name": "stderr",
     "output_type": "stream",
     "text": [
      "100%|████████████████████████████████████| 61981/61981 [04:00<00:00, 257.77it/s]\n"
     ]
    },
    {
     "data": {
      "text/plain": [
       "0                                                         \n",
       "1        NARRATIVES OF NEW NETHERLAND, 16091664        ...\n",
       "2                              Michaelius, Reverend Jonas.\n",
       "3            \"Letter of Reverend Jonas  Michaelius, 1628.\"\n",
       "4        In J. Franklin Jameson, ed., Narratives  of Ne...\n",
       "                               ...                        \n",
       "61976    Sometimes is found the  touching Gedachtenis, ...\n",
       "61977    More impressive still, from  its calm repetiti...\n",
       "61978    Not only in memory of those deadandgone coloni...\n",
       "61979    The lichened  lettering of those unfamiliar wo...\n",
       "61980                                                     \n",
       "Name: cleaned_sentences, Length: 61981, dtype: object"
      ]
     },
     "execution_count": 27,
     "metadata": {},
     "output_type": "execute_result"
    }
   ],
   "source": [
    "df_new_york_history['toponyms'] = process_sentences_in_batches(df_new_york_history['cleaned_sentences'])\n",
    "df_new_york_history['cleaned_sentences']"
   ]
  },
  {
   "cell_type": "markdown",
   "id": "5e0351bf-c9fc-4e1c-bf2a-beb5262de8dc",
   "metadata": {},
   "source": [
    "### Clean up the result"
   ]
  },
  {
   "cell_type": "markdown",
   "id": "9a69815d-19e0-4b64-a8b2-7370db2cdb1b",
   "metadata": {},
   "source": [
    "As we saw in the most intense part of the extraction process in lesson_5 we want to reduce the number of sentences being processed to lower the computation time. We can do two things at this stage. \n",
    " 1. Eliminate unnecessary columns\n",
    " 2. Eliminate all sentences for which there is no result\n",
    " 3. Eliminate all sentences with very few results. Your group can decide on the threshold, but suffice to say that all toponyms with a count of 1 won't be relevant. You can adjust this number as you fine-tune your model."
   ]
  },
  {
   "cell_type": "code",
   "execution_count": 34,
   "id": "bafb5a1b-9c02-4b02-a3e9-7148af5c3d44",
   "metadata": {},
   "outputs": [
    {
     "data": {
      "text/html": [
       "<div>\n",
       "<style scoped>\n",
       "    .dataframe tbody tr th:only-of-type {\n",
       "        vertical-align: middle;\n",
       "    }\n",
       "\n",
       "    .dataframe tbody tr th {\n",
       "        vertical-align: top;\n",
       "    }\n",
       "\n",
       "    .dataframe thead th {\n",
       "        text-align: right;\n",
       "    }\n",
       "</style>\n",
       "<table border=\"1\" class=\"dataframe\">\n",
       "  <thead>\n",
       "    <tr style=\"text-align: right;\">\n",
       "      <th></th>\n",
       "      <th>text_id</th>\n",
       "      <th>type</th>\n",
       "      <th>issued</th>\n",
       "      <th>title</th>\n",
       "      <th>language</th>\n",
       "      <th>subjects</th>\n",
       "      <th>locc</th>\n",
       "      <th>bookshelves</th>\n",
       "      <th>second_author</th>\n",
       "      <th>last_name</th>\n",
       "      <th>first_name</th>\n",
       "      <th>birth</th>\n",
       "      <th>death</th>\n",
       "      <th>sentences</th>\n",
       "      <th>cleaned_sentences</th>\n",
       "      <th>toponyms</th>\n",
       "    </tr>\n",
       "  </thead>\n",
       "  <tbody>\n",
       "    <tr>\n",
       "      <th>16796</th>\n",
       "      <td>21990</td>\n",
       "      <td>Text</td>\n",
       "      <td>2007-07-03</td>\n",
       "      <td>The Campaign of 1776 around New York and Brook...</td>\n",
       "      <td>en</td>\n",
       "      <td>Long Island, Battle of, New York, N.Y., 1776; ...</td>\n",
       "      <td>E201</td>\n",
       "      <td>Browsing: History - American; Browsing: Histor...</td>\n",
       "      <td>&lt;NA&gt;</td>\n",
       "      <td>Johnston</td>\n",
       "      <td>Henry Phelps</td>\n",
       "      <td>1842</td>\n",
       "      <td>1923</td>\n",
       "      <td>But in all Washington's army\\r\\nthere was not ...</td>\n",
       "      <td>But in all Washington's army  there was not a ...</td>\n",
       "      <td>[Washington, Long Island, Kings]</td>\n",
       "    </tr>\n",
       "    <tr>\n",
       "      <th>977</th>\n",
       "      <td>6856</td>\n",
       "      <td>Text</td>\n",
       "      <td>2004-11-01</td>\n",
       "      <td>The Great Riots of New York, 1712 to 1873</td>\n",
       "      <td>en</td>\n",
       "      <td>Riots -- New York (State) -- New York; Draft R...</td>\n",
       "      <td>F106</td>\n",
       "      <td>Browsing: History - American; Browsing: Histor...</td>\n",
       "      <td>&lt;NA&gt;</td>\n",
       "      <td>Headley</td>\n",
       "      <td>Joel Tyler</td>\n",
       "      <td>1813</td>\n",
       "      <td>1897</td>\n",
       "      <td>He wisely forebore to give the order, for if\\r...</td>\n",
       "      <td>He wisely forebore to give the order, for if  ...</td>\n",
       "      <td>None</td>\n",
       "    </tr>\n",
       "    <tr>\n",
       "      <th>71</th>\n",
       "      <td>3161</td>\n",
       "      <td>Text</td>\n",
       "      <td>2002-04-01</td>\n",
       "      <td>Narratives of New Netherland, 1609-1664</td>\n",
       "      <td>en</td>\n",
       "      <td>New York (State) -- History -- Colonial period...</td>\n",
       "      <td>F106</td>\n",
       "      <td>Browsing: History - American; Browsing: Histor...</td>\n",
       "      <td>&lt;NA&gt;</td>\n",
       "      <td>Jameson</td>\n",
       "      <td>J. Franklin (John Franklin)</td>\n",
       "      <td>1859</td>\n",
       "      <td>1937</td>\n",
       "      <td>In 1636-1637 he made arrangements\\r\\nwith Blom...</td>\n",
       "      <td>In 16361637 he made arrangements  with Blommae...</td>\n",
       "      <td>[New  Sweden]</td>\n",
       "    </tr>\n",
       "    <tr>\n",
       "      <th>34701</th>\n",
       "      <td>37421</td>\n",
       "      <td>Text</td>\n",
       "      <td>2011-09-14</td>\n",
       "      <td>The Life and Times of Kateri Tekakwitha, the L...</td>\n",
       "      <td>en</td>\n",
       "      <td>New York (State) -- History -- Colonial period...</td>\n",
       "      <td>E011</td>\n",
       "      <td>Browsing: History - American; Browsing: Histor...</td>\n",
       "      <td>&lt;NA&gt;</td>\n",
       "      <td>Walworth</td>\n",
       "      <td>Ellen H. (Ellen Hardin)</td>\n",
       "      <td>1858</td>\n",
       "      <td>1932</td>\n",
       "      <td>The Onondagas that very year sent presents to ...</td>\n",
       "      <td>The Onondagas that very year sent presents to ...</td>\n",
       "      <td>[Quebec]</td>\n",
       "    </tr>\n",
       "    <tr>\n",
       "      <th>57583</th>\n",
       "      <td>70129</td>\n",
       "      <td>Text</td>\n",
       "      <td>2023-02-24</td>\n",
       "      <td>General Washington's spies on Long Island and ...</td>\n",
       "      <td>en</td>\n",
       "      <td>New York (N.Y.) -- History -- Revolution, 1775...</td>\n",
       "      <td>E201</td>\n",
       "      <td>Browsing: History - American; Browsing: Histor...</td>\n",
       "      <td>&lt;NA&gt;</td>\n",
       "      <td>Pennypacker</td>\n",
       "      <td>Morton</td>\n",
       "      <td>1872</td>\n",
       "      <td>1956</td>\n",
       "      <td>Meanwhile Benedict Arnold was uneasy.</td>\n",
       "      <td>Meanwhile Benedict Arnold was uneasy.</td>\n",
       "      <td>None</td>\n",
       "    </tr>\n",
       "  </tbody>\n",
       "</table>\n",
       "</div>"
      ],
      "text/plain": [
       "       text_id  type      issued  \\\n",
       "16796    21990  Text  2007-07-03   \n",
       "977       6856  Text  2004-11-01   \n",
       "71        3161  Text  2002-04-01   \n",
       "34701    37421  Text  2011-09-14   \n",
       "57583    70129  Text  2023-02-24   \n",
       "\n",
       "                                                   title language  \\\n",
       "16796  The Campaign of 1776 around New York and Brook...       en   \n",
       "977            The Great Riots of New York, 1712 to 1873       en   \n",
       "71               Narratives of New Netherland, 1609-1664       en   \n",
       "34701  The Life and Times of Kateri Tekakwitha, the L...       en   \n",
       "57583  General Washington's spies on Long Island and ...       en   \n",
       "\n",
       "                                                subjects  locc  \\\n",
       "16796  Long Island, Battle of, New York, N.Y., 1776; ...  E201   \n",
       "977    Riots -- New York (State) -- New York; Draft R...  F106   \n",
       "71     New York (State) -- History -- Colonial period...  F106   \n",
       "34701  New York (State) -- History -- Colonial period...  E011   \n",
       "57583  New York (N.Y.) -- History -- Revolution, 1775...  E201   \n",
       "\n",
       "                                             bookshelves second_author  \\\n",
       "16796  Browsing: History - American; Browsing: Histor...          <NA>   \n",
       "977    Browsing: History - American; Browsing: Histor...          <NA>   \n",
       "71     Browsing: History - American; Browsing: Histor...          <NA>   \n",
       "34701  Browsing: History - American; Browsing: Histor...          <NA>   \n",
       "57583  Browsing: History - American; Browsing: Histor...          <NA>   \n",
       "\n",
       "         last_name                   first_name  birth  death  \\\n",
       "16796     Johnston                 Henry Phelps   1842   1923   \n",
       "977        Headley                   Joel Tyler   1813   1897   \n",
       "71         Jameson  J. Franklin (John Franklin)   1859   1937   \n",
       "34701     Walworth      Ellen H. (Ellen Hardin)   1858   1932   \n",
       "57583  Pennypacker                       Morton   1872   1956   \n",
       "\n",
       "                                               sentences  \\\n",
       "16796  But in all Washington's army\\r\\nthere was not ...   \n",
       "977    He wisely forebore to give the order, for if\\r...   \n",
       "71     In 1636-1637 he made arrangements\\r\\nwith Blom...   \n",
       "34701  The Onondagas that very year sent presents to ...   \n",
       "57583              Meanwhile Benedict Arnold was uneasy.   \n",
       "\n",
       "                                       cleaned_sentences  \\\n",
       "16796  But in all Washington's army  there was not a ...   \n",
       "977    He wisely forebore to give the order, for if  ...   \n",
       "71     In 16361637 he made arrangements  with Blommae...   \n",
       "34701  The Onondagas that very year sent presents to ...   \n",
       "57583              Meanwhile Benedict Arnold was uneasy.   \n",
       "\n",
       "                               toponyms  \n",
       "16796  [Washington, Long Island, Kings]  \n",
       "977                                None  \n",
       "71                        [New  Sweden]  \n",
       "34701                          [Quebec]  \n",
       "57583                              None  "
      ]
     },
     "execution_count": 34,
     "metadata": {},
     "output_type": "execute_result"
    }
   ],
   "source": [
    "df_new_york_history.sample(5)"
   ]
  },
  {
   "cell_type": "markdown",
   "id": "91bae1d6-4a9e-4a33-8b91-48d2577ef6c7",
   "metadata": {},
   "source": [
    "#### Eliminate Unncessary Columns"
   ]
  },
  {
   "cell_type": "code",
   "execution_count": 29,
   "id": "6840929a-d2c2-4ff7-98f3-c80cb45ecbc1",
   "metadata": {
    "editable": true,
    "slideshow": {
     "slide_type": ""
    },
    "tags": []
   },
   "outputs": [],
   "source": [
    "df_new_york_history = df_new_york_history.drop(columns=['language', 'issued', 'type', 'locc', 'bookshelves', 'second_author']).copy()"
   ]
  },
  {
   "cell_type": "markdown",
   "id": "df5a5363-117f-48dd-83b2-b0efef6f4052",
   "metadata": {
    "editable": true,
    "slideshow": {
     "slide_type": ""
    },
    "tags": []
   },
   "source": [
    "#### Eliminate `None`"
   ]
  },
  {
   "cell_type": "code",
   "execution_count": 31,
   "id": "06d43f9c-5420-4047-bf85-883c28fdcdde",
   "metadata": {
    "editable": true,
    "slideshow": {
     "slide_type": ""
    },
    "tags": []
   },
   "outputs": [],
   "source": [
    "df_new_york_history = df_new_york_history[df_new_york_history.toponyms.notna()]"
   ]
  },
  {
   "cell_type": "code",
   "execution_count": 33,
   "id": "441226a1-86f2-4197-a669-fb1dda3f258c",
   "metadata": {},
   "outputs": [
    {
     "data": {
      "text/html": [
       "<div>\n",
       "<style scoped>\n",
       "    .dataframe tbody tr th:only-of-type {\n",
       "        vertical-align: middle;\n",
       "    }\n",
       "\n",
       "    .dataframe tbody tr th {\n",
       "        vertical-align: top;\n",
       "    }\n",
       "\n",
       "    .dataframe thead th {\n",
       "        text-align: right;\n",
       "    }\n",
       "</style>\n",
       "<table border=\"1\" class=\"dataframe\">\n",
       "  <thead>\n",
       "    <tr style=\"text-align: right;\">\n",
       "      <th></th>\n",
       "      <th>text_id</th>\n",
       "      <th>title</th>\n",
       "      <th>subjects</th>\n",
       "      <th>last_name</th>\n",
       "      <th>first_name</th>\n",
       "      <th>birth</th>\n",
       "      <th>death</th>\n",
       "      <th>sentences</th>\n",
       "      <th>cleaned_sentences</th>\n",
       "      <th>toponyms</th>\n",
       "    </tr>\n",
       "  </thead>\n",
       "  <tbody>\n",
       "    <tr>\n",
       "      <th>4</th>\n",
       "      <td>3161</td>\n",
       "      <td>Narratives of New Netherland, 1609-1664</td>\n",
       "      <td>New York (State) -- History -- Colonial period...</td>\n",
       "      <td>Jameson</td>\n",
       "      <td>J. Franklin (John Franklin)</td>\n",
       "      <td>1859</td>\n",
       "      <td>1937</td>\n",
       "      <td>In J. Franklin Jameson, ed., Narratives\\r\\nof ...</td>\n",
       "      <td>In J. Franklin Jameson, ed., Narratives  of Ne...</td>\n",
       "      <td>[Narratives, New Netherland]</td>\n",
       "    </tr>\n",
       "    <tr>\n",
       "      <th>6</th>\n",
       "      <td>3161</td>\n",
       "      <td>Narratives of New Netherland, 1609-1664</td>\n",
       "      <td>New York (State) -- History -- Colonial period...</td>\n",
       "      <td>Jameson</td>\n",
       "      <td>J. Franklin (John Franklin)</td>\n",
       "      <td>1859</td>\n",
       "      <td>1937</td>\n",
       "      <td>INTRODUCTION\\r\\n\\r\\nTHE established church in ...</td>\n",
       "      <td>INTRODUCTION    THE established church in the ...</td>\n",
       "      <td>[the United Netherlands]</td>\n",
       "    </tr>\n",
       "    <tr>\n",
       "      <th>7</th>\n",
       "      <td>3161</td>\n",
       "      <td>Narratives of New Netherland, 1609-1664</td>\n",
       "      <td>New York (State) -- History -- Colonial period...</td>\n",
       "      <td>Jameson</td>\n",
       "      <td>J. Franklin (John Franklin)</td>\n",
       "      <td>1859</td>\n",
       "      <td>1937</td>\n",
       "      <td>Its polity was that of Geneva or of\\r\\nPresbyt...</td>\n",
       "      <td>Its polity was that of Geneva or of  Presbyter...</td>\n",
       "      <td>[Geneva]</td>\n",
       "    </tr>\n",
       "    <tr>\n",
       "      <th>12</th>\n",
       "      <td>3161</td>\n",
       "      <td>Narratives of New Netherland, 1609-1664</td>\n",
       "      <td>New York (State) -- History -- Colonial period...</td>\n",
       "      <td>Jameson</td>\n",
       "      <td>J. Franklin (John Franklin)</td>\n",
       "      <td>1859</td>\n",
       "      <td>1937</td>\n",
       "      <td>In 1624 the synod of North\\r\\nHolland decreed ...</td>\n",
       "      <td>In 1624 the synod of North  Holland decreed th...</td>\n",
       "      <td>[North  , Holland]</td>\n",
       "    </tr>\n",
       "    <tr>\n",
       "      <th>15</th>\n",
       "      <td>3161</td>\n",
       "      <td>Narratives of New Netherland, 1609-1664</td>\n",
       "      <td>New York (State) -- History -- Colonial period...</td>\n",
       "      <td>Jameson</td>\n",
       "      <td>J. Franklin (John Franklin)</td>\n",
       "      <td>1859</td>\n",
       "      <td>1937</td>\n",
       "      <td>Many extracts\\r\\nfrom the minutes of that clas...</td>\n",
       "      <td>Many extracts  from the minutes of that classi...</td>\n",
       "      <td>[New York, Albany]</td>\n",
       "    </tr>\n",
       "    <tr>\n",
       "      <th>...</th>\n",
       "      <td>...</td>\n",
       "      <td>...</td>\n",
       "      <td>...</td>\n",
       "      <td>...</td>\n",
       "      <td>...</td>\n",
       "      <td>...</td>\n",
       "      <td>...</td>\n",
       "      <td>...</td>\n",
       "      <td>...</td>\n",
       "      <td>...</td>\n",
       "    </tr>\n",
       "    <tr>\n",
       "      <th>61946</th>\n",
       "      <td>72327</td>\n",
       "      <td>Colonial days in old New York</td>\n",
       "      <td>New York (State) -- History -- Colonial period...</td>\n",
       "      <td>Earle</td>\n",
       "      <td>Alice Morse</td>\n",
       "      <td>1851</td>\n",
       "      <td>1911</td>\n",
       "      <td>“Burial-cakes” were advertised by\\r\\na baker i...</td>\n",
       "      <td>“Burialcakes” were advertised by  a baker in 1...</td>\n",
       "      <td>[Burialcakes, Philadelphia]</td>\n",
       "    </tr>\n",
       "    <tr>\n",
       "      <th>61954</th>\n",
       "      <td>72327</td>\n",
       "      <td>Colonial days in old New York</td>\n",
       "      <td>New York (State) -- History -- Colonial period...</td>\n",
       "      <td>Earle</td>\n",
       "      <td>Alice Morse</td>\n",
       "      <td>1851</td>\n",
       "      <td>1911</td>\n",
       "      <td>Perhaps with\\r\\ngifts of gloves, spoons, bottl...</td>\n",
       "      <td>Perhaps with  gifts of gloves, spoons, bottles...</td>\n",
       "      <td>[scarfs]</td>\n",
       "    </tr>\n",
       "    <tr>\n",
       "      <th>61960</th>\n",
       "      <td>72327</td>\n",
       "      <td>Colonial days in old New York</td>\n",
       "      <td>New York (State) -- History -- Colonial period...</td>\n",
       "      <td>Earle</td>\n",
       "      <td>Alice Morse</td>\n",
       "      <td>1851</td>\n",
       "      <td>1911</td>\n",
       "      <td>In the “New York Gazette” of December 24, 1750...</td>\n",
       "      <td>In the “New York Gazette” of December 24, 1750...</td>\n",
       "      <td>[New York Gazette, Esq]</td>\n",
       "    </tr>\n",
       "    <tr>\n",
       "      <th>61966</th>\n",
       "      <td>72327</td>\n",
       "      <td>Colonial days in old New York</td>\n",
       "      <td>New York (State) -- History -- Colonial period...</td>\n",
       "      <td>Earle</td>\n",
       "      <td>Alice Morse</td>\n",
       "      <td>1851</td>\n",
       "      <td>1911</td>\n",
       "      <td>As this is intended as a small Tribute to the ...</td>\n",
       "      <td>As this is intended as a small Tribute to the ...</td>\n",
       "      <td>[Morrisania, Esq, the Province of New Jersey]</td>\n",
       "    </tr>\n",
       "    <tr>\n",
       "      <th>61967</th>\n",
       "      <td>72327</td>\n",
       "      <td>Colonial days in old New York</td>\n",
       "      <td>New York (State) -- History -- Colonial period...</td>\n",
       "      <td>Earle</td>\n",
       "      <td>Alice Morse</td>\n",
       "      <td>1851</td>\n",
       "      <td>1911</td>\n",
       "      <td>She was a pattern of Conjugal\\r\\n Affection, a...</td>\n",
       "      <td>She was a pattern of Conjugal   Affection, a t...</td>\n",
       "      <td>[Parent]</td>\n",
       "    </tr>\n",
       "  </tbody>\n",
       "</table>\n",
       "<p>12300 rows × 10 columns</p>\n",
       "</div>"
      ],
      "text/plain": [
       "       text_id                                    title  \\\n",
       "4         3161  Narratives of New Netherland, 1609-1664   \n",
       "6         3161  Narratives of New Netherland, 1609-1664   \n",
       "7         3161  Narratives of New Netherland, 1609-1664   \n",
       "12        3161  Narratives of New Netherland, 1609-1664   \n",
       "15        3161  Narratives of New Netherland, 1609-1664   \n",
       "...        ...                                      ...   \n",
       "61946    72327            Colonial days in old New York   \n",
       "61954    72327            Colonial days in old New York   \n",
       "61960    72327            Colonial days in old New York   \n",
       "61966    72327            Colonial days in old New York   \n",
       "61967    72327            Colonial days in old New York   \n",
       "\n",
       "                                                subjects last_name  \\\n",
       "4      New York (State) -- History -- Colonial period...   Jameson   \n",
       "6      New York (State) -- History -- Colonial period...   Jameson   \n",
       "7      New York (State) -- History -- Colonial period...   Jameson   \n",
       "12     New York (State) -- History -- Colonial period...   Jameson   \n",
       "15     New York (State) -- History -- Colonial period...   Jameson   \n",
       "...                                                  ...       ...   \n",
       "61946  New York (State) -- History -- Colonial period...     Earle   \n",
       "61954  New York (State) -- History -- Colonial period...     Earle   \n",
       "61960  New York (State) -- History -- Colonial period...     Earle   \n",
       "61966  New York (State) -- History -- Colonial period...     Earle   \n",
       "61967  New York (State) -- History -- Colonial period...     Earle   \n",
       "\n",
       "                        first_name  birth  death  \\\n",
       "4      J. Franklin (John Franklin)   1859   1937   \n",
       "6      J. Franklin (John Franklin)   1859   1937   \n",
       "7      J. Franklin (John Franklin)   1859   1937   \n",
       "12     J. Franklin (John Franklin)   1859   1937   \n",
       "15     J. Franklin (John Franklin)   1859   1937   \n",
       "...                            ...    ...    ...   \n",
       "61946                  Alice Morse   1851   1911   \n",
       "61954                  Alice Morse   1851   1911   \n",
       "61960                  Alice Morse   1851   1911   \n",
       "61966                  Alice Morse   1851   1911   \n",
       "61967                  Alice Morse   1851   1911   \n",
       "\n",
       "                                               sentences  \\\n",
       "4      In J. Franklin Jameson, ed., Narratives\\r\\nof ...   \n",
       "6      INTRODUCTION\\r\\n\\r\\nTHE established church in ...   \n",
       "7      Its polity was that of Geneva or of\\r\\nPresbyt...   \n",
       "12     In 1624 the synod of North\\r\\nHolland decreed ...   \n",
       "15     Many extracts\\r\\nfrom the minutes of that clas...   \n",
       "...                                                  ...   \n",
       "61946  “Burial-cakes” were advertised by\\r\\na baker i...   \n",
       "61954  Perhaps with\\r\\ngifts of gloves, spoons, bottl...   \n",
       "61960  In the “New York Gazette” of December 24, 1750...   \n",
       "61966  As this is intended as a small Tribute to the ...   \n",
       "61967  She was a pattern of Conjugal\\r\\n Affection, a...   \n",
       "\n",
       "                                       cleaned_sentences  \\\n",
       "4      In J. Franklin Jameson, ed., Narratives  of Ne...   \n",
       "6      INTRODUCTION    THE established church in the ...   \n",
       "7      Its polity was that of Geneva or of  Presbyter...   \n",
       "12     In 1624 the synod of North  Holland decreed th...   \n",
       "15     Many extracts  from the minutes of that classi...   \n",
       "...                                                  ...   \n",
       "61946  “Burialcakes” were advertised by  a baker in 1...   \n",
       "61954  Perhaps with  gifts of gloves, spoons, bottles...   \n",
       "61960  In the “New York Gazette” of December 24, 1750...   \n",
       "61966  As this is intended as a small Tribute to the ...   \n",
       "61967  She was a pattern of Conjugal   Affection, a t...   \n",
       "\n",
       "                                            toponyms  \n",
       "4                       [Narratives, New Netherland]  \n",
       "6                           [the United Netherlands]  \n",
       "7                                           [Geneva]  \n",
       "12                                [North  , Holland]  \n",
       "15                                [New York, Albany]  \n",
       "...                                              ...  \n",
       "61946                    [Burialcakes, Philadelphia]  \n",
       "61954                                       [scarfs]  \n",
       "61960                        [New York Gazette, Esq]  \n",
       "61966  [Morrisania, Esq, the Province of New Jersey]  \n",
       "61967                                       [Parent]  \n",
       "\n",
       "[12300 rows x 10 columns]"
      ]
     },
     "execution_count": 33,
     "metadata": {},
     "output_type": "execute_result"
    }
   ],
   "source": [
    "df_new_york_history"
   ]
  },
  {
   "cell_type": "markdown",
   "id": "d6336eb2-31b0-40bb-8b83-8ba2cced60ee",
   "metadata": {},
   "source": [
    "To eliminate the some of the complicated processing the function below adds a count column to the dataframe."
   ]
  },
  {
   "cell_type": "code",
   "execution_count": 35,
   "id": "2dfd0206-4ede-4375-82c1-863ed583b0b8",
   "metadata": {},
   "outputs": [],
   "source": [
    "def add_toponym_count(df, toponym_col='toponyms', sentence_col='cleaned_sentences'):\n",
    "    \"\"\"\n",
    "    Processes the DataFrame to count toponyms and aggregate back to sentences, keeping all original columns.\n",
    "    \n",
    "    Args:\n",
    "        df (pd.DataFrame): The DataFrame containing toponyms and sentences.\n",
    "        toponym_col (str): Column containing the toponyms as lists.\n",
    "        sentence_col (str): Column containing the cleaned sentences.\n",
    "    \n",
    "    Returns:\n",
    "        pd.DataFrame: A DataFrame grouped by sentences with a list of toponyms, their counts, and all original columns.\n",
    "    \"\"\"\n",
    "    \n",
    "    # Step 1: Explode the 'toponyms' column\n",
    "    exploded_df = df.explode(toponym_col)\n",
    "    \n",
    "    # Step 2: Group by 'toponyms' to count occurrences and add 'nltk_toponym_count' column\n",
    "    toponym_counts = exploded_df.groupby(toponym_col).size().reset_index(name='nltk_toponym_count')\n",
    "    \n",
    "    # Step 3: Merge the counts back to the exploded DataFrame\n",
    "    exploded_df = exploded_df.merge(toponym_counts, on=toponym_col, how='left')\n",
    "    \n",
    "    # Step 4: Group by 'cleaned_sentences' and aggregate all columns\n",
    "    # Use 'first' to retain the first non-null value for each original column, and 'list' for the toponym_col\n",
    "    aggregation_dict = {col: 'first' for col in df.columns if col not in [sentence_col, toponym_col]}\n",
    "    aggregation_dict[toponym_col] = lambda x: list(x)  # Aggregate toponyms into lists\n",
    "    aggregation_dict['nltk_toponym_count'] = 'first'   # Take the first count (all counts are the same within groups)\n",
    "    \n",
    "    result_df = exploded_df.groupby(sentence_col).agg(aggregation_dict).reset_index()\n",
    "    \n",
    "    return result_df"
   ]
  },
  {
   "cell_type": "code",
   "execution_count": 44,
   "id": "3396b1c0-4b80-4bd1-a69d-7590f5fb4afc",
   "metadata": {},
   "outputs": [
    {
     "data": {
      "text/html": [
       "<div>\n",
       "<style scoped>\n",
       "    .dataframe tbody tr th:only-of-type {\n",
       "        vertical-align: middle;\n",
       "    }\n",
       "\n",
       "    .dataframe tbody tr th {\n",
       "        vertical-align: top;\n",
       "    }\n",
       "\n",
       "    .dataframe thead th {\n",
       "        text-align: right;\n",
       "    }\n",
       "</style>\n",
       "<table border=\"1\" class=\"dataframe\">\n",
       "  <thead>\n",
       "    <tr style=\"text-align: right;\">\n",
       "      <th></th>\n",
       "      <th>text_id</th>\n",
       "      <th>title</th>\n",
       "      <th>subjects</th>\n",
       "      <th>last_name</th>\n",
       "      <th>first_name</th>\n",
       "      <th>birth</th>\n",
       "      <th>death</th>\n",
       "      <th>sentences</th>\n",
       "      <th>cleaned_sentences</th>\n",
       "      <th>toponyms</th>\n",
       "    </tr>\n",
       "  </thead>\n",
       "  <tbody>\n",
       "    <tr>\n",
       "      <th>10141</th>\n",
       "      <td>13042</td>\n",
       "      <td>Knickerbocker's History of New York, Complete</td>\n",
       "      <td>New York (State) -- History -- Colonial period...</td>\n",
       "      <td>Irving</td>\n",
       "      <td>Washington</td>\n",
       "      <td>1783</td>\n",
       "      <td>1859</td>\n",
       "      <td>For\\r\\nonce in his life, and only for once, di...</td>\n",
       "      <td>For  once in his life, and only for once, did ...</td>\n",
       "      <td>[New  Netherlands]</td>\n",
       "    </tr>\n",
       "    <tr>\n",
       "      <th>37561</th>\n",
       "      <td>37421</td>\n",
       "      <td>The Life and Times of Kateri Tekakwitha, the L...</td>\n",
       "      <td>New York (State) -- History -- Colonial period...</td>\n",
       "      <td>Walworth</td>\n",
       "      <td>Ellen H. (Ellen Hardin)</td>\n",
       "      <td>1858</td>\n",
       "      <td>1932</td>\n",
       "      <td>p. 9, will\\r\\n     show you an Iroquois villag...</td>\n",
       "      <td>p. 9, will       show you an Iroquois village ...</td>\n",
       "      <td>[Iroquois]</td>\n",
       "    </tr>\n",
       "    <tr>\n",
       "      <th>21592</th>\n",
       "      <td>21990</td>\n",
       "      <td>The Campaign of 1776 around New York and Brook...</td>\n",
       "      <td>Long Island, Battle of, New York, N.Y., 1776; ...</td>\n",
       "      <td>Johnston</td>\n",
       "      <td>Henry Phelps</td>\n",
       "      <td>1842</td>\n",
       "      <td>1923</td>\n",
       "      <td>When we had proceeded to within a mile and a h...</td>\n",
       "      <td>When we had proceeded to within a mile and a h...</td>\n",
       "      <td>[Princeton]</td>\n",
       "    </tr>\n",
       "    <tr>\n",
       "      <th>13938</th>\n",
       "      <td>13811</td>\n",
       "      <td>Peter Stuyvesant, the Last Dutch Governor of N...</td>\n",
       "      <td>New York (State) -- History -- Colonial period...</td>\n",
       "      <td>Abbott</td>\n",
       "      <td>John S. C. (John Stevens Cabot)</td>\n",
       "      <td>1805</td>\n",
       "      <td>1877</td>\n",
       "      <td>While New Netherland was thus fearfully menace...</td>\n",
       "      <td>While New Netherland was thus fearfully menace...</td>\n",
       "      <td>[England]</td>\n",
       "    </tr>\n",
       "    <tr>\n",
       "      <th>14169</th>\n",
       "      <td>13811</td>\n",
       "      <td>Peter Stuyvesant, the Last Dutch Governor of N...</td>\n",
       "      <td>New York (State) -- History -- Colonial period...</td>\n",
       "      <td>Abbott</td>\n",
       "      <td>John S. C. (John Stevens Cabot)</td>\n",
       "      <td>1805</td>\n",
       "      <td>1877</td>\n",
       "      <td>We regret to say, but\\r\\nhistory will bear us ...</td>\n",
       "      <td>We regret to say, but  history will bear us ou...</td>\n",
       "      <td>[Great Britain]</td>\n",
       "    </tr>\n",
       "  </tbody>\n",
       "</table>\n",
       "</div>"
      ],
      "text/plain": [
       "       text_id                                              title  \\\n",
       "10141    13042      Knickerbocker's History of New York, Complete   \n",
       "37561    37421  The Life and Times of Kateri Tekakwitha, the L...   \n",
       "21592    21990  The Campaign of 1776 around New York and Brook...   \n",
       "13938    13811  Peter Stuyvesant, the Last Dutch Governor of N...   \n",
       "14169    13811  Peter Stuyvesant, the Last Dutch Governor of N...   \n",
       "\n",
       "                                                subjects last_name  \\\n",
       "10141  New York (State) -- History -- Colonial period...    Irving   \n",
       "37561  New York (State) -- History -- Colonial period...  Walworth   \n",
       "21592  Long Island, Battle of, New York, N.Y., 1776; ...  Johnston   \n",
       "13938  New York (State) -- History -- Colonial period...    Abbott   \n",
       "14169  New York (State) -- History -- Colonial period...    Abbott   \n",
       "\n",
       "                            first_name  birth  death  \\\n",
       "10141                       Washington   1783   1859   \n",
       "37561          Ellen H. (Ellen Hardin)   1858   1932   \n",
       "21592                     Henry Phelps   1842   1923   \n",
       "13938  John S. C. (John Stevens Cabot)   1805   1877   \n",
       "14169  John S. C. (John Stevens Cabot)   1805   1877   \n",
       "\n",
       "                                               sentences  \\\n",
       "10141  For\\r\\nonce in his life, and only for once, di...   \n",
       "37561  p. 9, will\\r\\n     show you an Iroquois villag...   \n",
       "21592  When we had proceeded to within a mile and a h...   \n",
       "13938  While New Netherland was thus fearfully menace...   \n",
       "14169  We regret to say, but\\r\\nhistory will bear us ...   \n",
       "\n",
       "                                       cleaned_sentences            toponyms  \n",
       "10141  For  once in his life, and only for once, did ...  [New  Netherlands]  \n",
       "37561  p. 9, will       show you an Iroquois village ...          [Iroquois]  \n",
       "21592  When we had proceeded to within a mile and a h...         [Princeton]  \n",
       "13938  While New Netherland was thus fearfully menace...           [England]  \n",
       "14169  We regret to say, but  history will bear us ou...     [Great Britain]  "
      ]
     },
     "execution_count": 44,
     "metadata": {},
     "output_type": "execute_result"
    }
   ],
   "source": [
    "df_new_york_history.sample(5)"
   ]
  },
  {
   "cell_type": "code",
   "execution_count": 37,
   "id": "75678045-3147-4add-9b78-7c5124d3b0bd",
   "metadata": {
    "editable": true,
    "slideshow": {
     "slide_type": ""
    },
    "tags": []
   },
   "outputs": [],
   "source": [
    "df_new_york_history = add_toponym_count(df_new_york_history)"
   ]
  },
  {
   "cell_type": "code",
   "execution_count": 39,
   "id": "0129ebff-5c9f-45da-bf7a-dee73846af50",
   "metadata": {},
   "outputs": [
    {
     "data": {
      "text/html": [
       "<div>\n",
       "<style scoped>\n",
       "    .dataframe tbody tr th:only-of-type {\n",
       "        vertical-align: middle;\n",
       "    }\n",
       "\n",
       "    .dataframe tbody tr th {\n",
       "        vertical-align: top;\n",
       "    }\n",
       "\n",
       "    .dataframe thead th {\n",
       "        text-align: right;\n",
       "    }\n",
       "</style>\n",
       "<table border=\"1\" class=\"dataframe\">\n",
       "  <thead>\n",
       "    <tr style=\"text-align: right;\">\n",
       "      <th></th>\n",
       "      <th>cleaned_sentences</th>\n",
       "      <th>text_id</th>\n",
       "      <th>title</th>\n",
       "      <th>subjects</th>\n",
       "      <th>last_name</th>\n",
       "      <th>first_name</th>\n",
       "      <th>birth</th>\n",
       "      <th>death</th>\n",
       "      <th>sentences</th>\n",
       "      <th>toponyms</th>\n",
       "      <th>nltk_toponym_count</th>\n",
       "    </tr>\n",
       "  </thead>\n",
       "  <tbody>\n",
       "    <tr>\n",
       "      <th>0</th>\n",
       "      <td>...</td>\n",
       "      <td>24712</td>\n",
       "      <td>The Negro at Work in New York City: A Study in...</td>\n",
       "      <td>African Americans -- History; African American...</td>\n",
       "      <td>Haynes</td>\n",
       "      <td>George Edmund</td>\n",
       "      <td>1880</td>\n",
       "      <td>1960</td>\n",
       "      <td>|                        |\\r\\n                ...</td>\n",
       "      <td>[Cincinnati, New                              ...</td>\n",
       "      <td>7</td>\n",
       "    </tr>\n",
       "    <tr>\n",
       "      <th>1</th>\n",
       "      <td>...</td>\n",
       "      <td>24712</td>\n",
       "      <td>The Negro at Work in New York City: A Study in...</td>\n",
       "      <td>African Americans -- History; African American...</td>\n",
       "      <td>Haynes</td>\n",
       "      <td>George Edmund</td>\n",
       "      <td>1880</td>\n",
       "      <td>1960</td>\n",
       "      <td>|\\r\\n      |                                  ...</td>\n",
       "      <td>[NEW YORK]</td>\n",
       "      <td>53</td>\n",
       "    </tr>\n",
       "    <tr>\n",
       "      <th>2</th>\n",
       "      <td>...</td>\n",
       "      <td>24712</td>\n",
       "      <td>The Negro at Work in New York City: A Study in...</td>\n",
       "      <td>African Americans -- History; African American...</td>\n",
       "      <td>Haynes</td>\n",
       "      <td>George Edmund</td>\n",
       "      <td>1880</td>\n",
       "      <td>1960</td>\n",
       "      <td>|\\r\\n                       |                 ...</td>\n",
       "      <td>[Virginia]</td>\n",
       "      <td>224</td>\n",
       "    </tr>\n",
       "    <tr>\n",
       "      <th>3</th>\n",
       "      <td>...</td>\n",
       "      <td>70129</td>\n",
       "      <td>General Washington's spies on Long Island and ...</td>\n",
       "      <td>New York (N.Y.) -- History -- Revolution, 1775...</td>\n",
       "      <td>Pennypacker</td>\n",
       "      <td>Morton</td>\n",
       "      <td>1872</td>\n",
       "      <td>1956</td>\n",
       "      <td>*       *       *       *       *\\r\\n\\r\\n     ...</td>\n",
       "      <td>[FAIRFIELD]</td>\n",
       "      <td>9</td>\n",
       "    </tr>\n",
       "    <tr>\n",
       "      <th>4</th>\n",
       "      <td>...</td>\n",
       "      <td>24712</td>\n",
       "      <td>The Negro at Work in New York City: A Study in...</td>\n",
       "      <td>African Americans -- History; African American...</td>\n",
       "      <td>Haynes</td>\n",
       "      <td>George Edmund</td>\n",
       "      <td>1880</td>\n",
       "      <td>1960</td>\n",
       "      <td>|                      |                      ...</td>\n",
       "      <td>[America]</td>\n",
       "      <td>212</td>\n",
       "    </tr>\n",
       "    <tr>\n",
       "      <th>...</th>\n",
       "      <td>...</td>\n",
       "      <td>...</td>\n",
       "      <td>...</td>\n",
       "      <td>...</td>\n",
       "      <td>...</td>\n",
       "      <td>...</td>\n",
       "      <td>...</td>\n",
       "      <td>...</td>\n",
       "      <td>...</td>\n",
       "      <td>...</td>\n",
       "      <td>...</td>\n",
       "    </tr>\n",
       "    <tr>\n",
       "      <th>12209</th>\n",
       "      <td>“Whenever I sit down I always feel and know my...</td>\n",
       "      <td>70129</td>\n",
       "      <td>General Washington's spies on Long Island and ...</td>\n",
       "      <td>New York (N.Y.) -- History -- Revolution, 1775...</td>\n",
       "      <td>Pennypacker</td>\n",
       "      <td>Morton</td>\n",
       "      <td>1872</td>\n",
       "      <td>1956</td>\n",
       "      <td>“Whenever I sit down I always feel and know my...</td>\n",
       "      <td>[Letter]</td>\n",
       "      <td>7</td>\n",
       "    </tr>\n",
       "    <tr>\n",
       "      <th>12210</th>\n",
       "      <td>“Whereas several of the inhabitants  on the fe...</td>\n",
       "      <td>56078</td>\n",
       "      <td>Notes Geographical and Historical, Relating to...</td>\n",
       "      <td>Brooklyn (New York, N.Y.) -- History</td>\n",
       "      <td>Furman</td>\n",
       "      <td>Gabriel</td>\n",
       "      <td>1800</td>\n",
       "      <td>1854</td>\n",
       "      <td>“Whereas several of the inhabitants\\r\\non the ...</td>\n",
       "      <td>[Breuckland]</td>\n",
       "      <td>3</td>\n",
       "    </tr>\n",
       "    <tr>\n",
       "      <th>12211</th>\n",
       "      <td>“Whether there are any Works upon the Island o...</td>\n",
       "      <td>70129</td>\n",
       "      <td>General Washington's spies on Long Island and ...</td>\n",
       "      <td>New York (N.Y.) -- History -- Revolution, 1775...</td>\n",
       "      <td>Pennypacker</td>\n",
       "      <td>Morton</td>\n",
       "      <td>1872</td>\n",
       "      <td>1956</td>\n",
       "      <td>“Whether there are any Works upon the Island o...</td>\n",
       "      <td>[Washington]</td>\n",
       "      <td>753</td>\n",
       "    </tr>\n",
       "    <tr>\n",
       "      <th>12212</th>\n",
       "      <td>“Ye fyremasters” were also ordered to see that...</td>\n",
       "      <td>72327</td>\n",
       "      <td>Colonial days in old New York</td>\n",
       "      <td>New York (State) -- History -- Colonial period...</td>\n",
       "      <td>Earle</td>\n",
       "      <td>Alice Morse</td>\n",
       "      <td>1851</td>\n",
       "      <td>1911</td>\n",
       "      <td>“Y^e fyre-masters” were also ordered to see th...</td>\n",
       "      <td>[Flatbush]</td>\n",
       "      <td>11</td>\n",
       "    </tr>\n",
       "    <tr>\n",
       "      <th>12213</th>\n",
       "      <td>“You dn hussy, you forget all about yourself, ...</td>\n",
       "      <td>59899</td>\n",
       "      <td>Ten Days in a Mad-House; or, Nellie Bly's Expe...</td>\n",
       "      <td>N.Y. City Lunatic Asylum; Bly, Nellie, 1864-19...</td>\n",
       "      <td>Bly</td>\n",
       "      <td>Nellie</td>\n",
       "      <td>1864</td>\n",
       "      <td>1922</td>\n",
       "      <td>“You d—n hussy, you forget all about yourself,...</td>\n",
       "      <td>[Neville]</td>\n",
       "      <td>1</td>\n",
       "    </tr>\n",
       "  </tbody>\n",
       "</table>\n",
       "<p>12214 rows × 11 columns</p>\n",
       "</div>"
      ],
      "text/plain": [
       "                                       cleaned_sentences  text_id  \\\n",
       "0                                                    ...    24712   \n",
       "1                                                    ...    24712   \n",
       "2                                                    ...    24712   \n",
       "3                                                    ...    70129   \n",
       "4                                                    ...    24712   \n",
       "...                                                  ...      ...   \n",
       "12209  “Whenever I sit down I always feel and know my...    70129   \n",
       "12210  “Whereas several of the inhabitants  on the fe...    56078   \n",
       "12211  “Whether there are any Works upon the Island o...    70129   \n",
       "12212  “Ye fyremasters” were also ordered to see that...    72327   \n",
       "12213  “You dn hussy, you forget all about yourself, ...    59899   \n",
       "\n",
       "                                                   title  \\\n",
       "0      The Negro at Work in New York City: A Study in...   \n",
       "1      The Negro at Work in New York City: A Study in...   \n",
       "2      The Negro at Work in New York City: A Study in...   \n",
       "3      General Washington's spies on Long Island and ...   \n",
       "4      The Negro at Work in New York City: A Study in...   \n",
       "...                                                  ...   \n",
       "12209  General Washington's spies on Long Island and ...   \n",
       "12210  Notes Geographical and Historical, Relating to...   \n",
       "12211  General Washington's spies on Long Island and ...   \n",
       "12212                      Colonial days in old New York   \n",
       "12213  Ten Days in a Mad-House; or, Nellie Bly's Expe...   \n",
       "\n",
       "                                                subjects    last_name  \\\n",
       "0      African Americans -- History; African American...       Haynes   \n",
       "1      African Americans -- History; African American...       Haynes   \n",
       "2      African Americans -- History; African American...       Haynes   \n",
       "3      New York (N.Y.) -- History -- Revolution, 1775...  Pennypacker   \n",
       "4      African Americans -- History; African American...       Haynes   \n",
       "...                                                  ...          ...   \n",
       "12209  New York (N.Y.) -- History -- Revolution, 1775...  Pennypacker   \n",
       "12210               Brooklyn (New York, N.Y.) -- History       Furman   \n",
       "12211  New York (N.Y.) -- History -- Revolution, 1775...  Pennypacker   \n",
       "12212  New York (State) -- History -- Colonial period...        Earle   \n",
       "12213  N.Y. City Lunatic Asylum; Bly, Nellie, 1864-19...          Bly   \n",
       "\n",
       "          first_name  birth  death  \\\n",
       "0      George Edmund   1880   1960   \n",
       "1      George Edmund   1880   1960   \n",
       "2      George Edmund   1880   1960   \n",
       "3             Morton   1872   1956   \n",
       "4      George Edmund   1880   1960   \n",
       "...              ...    ...    ...   \n",
       "12209         Morton   1872   1956   \n",
       "12210        Gabriel   1800   1854   \n",
       "12211         Morton   1872   1956   \n",
       "12212    Alice Morse   1851   1911   \n",
       "12213         Nellie   1864   1922   \n",
       "\n",
       "                                               sentences  \\\n",
       "0      |                        |\\r\\n                ...   \n",
       "1      |\\r\\n      |                                  ...   \n",
       "2      |\\r\\n                       |                 ...   \n",
       "3      *       *       *       *       *\\r\\n\\r\\n     ...   \n",
       "4      |                      |                      ...   \n",
       "...                                                  ...   \n",
       "12209  “Whenever I sit down I always feel and know my...   \n",
       "12210  “Whereas several of the inhabitants\\r\\non the ...   \n",
       "12211  “Whether there are any Works upon the Island o...   \n",
       "12212  “Y^e fyre-masters” were also ordered to see th...   \n",
       "12213  “You d—n hussy, you forget all about yourself,...   \n",
       "\n",
       "                                                toponyms  nltk_toponym_count  \n",
       "0      [Cincinnati, New                              ...                   7  \n",
       "1                                             [NEW YORK]                  53  \n",
       "2                                             [Virginia]                 224  \n",
       "3                                            [FAIRFIELD]                   9  \n",
       "4                                              [America]                 212  \n",
       "...                                                  ...                 ...  \n",
       "12209                                           [Letter]                   7  \n",
       "12210                                       [Breuckland]                   3  \n",
       "12211                                       [Washington]                 753  \n",
       "12212                                         [Flatbush]                  11  \n",
       "12213                                          [Neville]                   1  \n",
       "\n",
       "[12214 rows x 11 columns]"
      ]
     },
     "execution_count": 39,
     "metadata": {},
     "output_type": "execute_result"
    }
   ],
   "source": [
    "df_new_york_history"
   ]
  },
  {
   "cell_type": "markdown",
   "id": "ebe87915-0312-4ccd-bdf3-50c2923d1468",
   "metadata": {},
   "source": [
    "![](edit-code.png)"
   ]
  },
  {
   "cell_type": "markdown",
   "id": "bc819547-0582-442b-81ab-c03bc375f8b3",
   "metadata": {},
   "source": [
    "#### Filter out low toponym counts"
   ]
  },
  {
   "cell_type": "markdown",
   "id": "5ccfff84-e907-4612-b001-514ded6af753",
   "metadata": {},
   "source": [
    "Your dataframe now has the new variable `nltk_toponym_count`. You can filter out low count results to get fewer sentences. You can get a data frame for all cleaned sentences where the nltk_toponym_count is **greater** than 1."
   ]
  },
  {
   "cell_type": "code",
   "execution_count": 96,
   "id": "0e6d100f-67fe-4e05-bd89-d50d7129b81f",
   "metadata": {},
   "outputs": [],
   "source": [
    "#nltk_toponym_count = df_new_york_history\n",
    "#if nltk_toponym_count > 1:\n",
    "    "
   ]
  },
  {
   "cell_type": "markdown",
   "id": "676ba98a-e839-47c4-a1c6-3c0a39f42570",
   "metadata": {},
   "source": [
    "![](save.png)"
   ]
  },
  {
   "cell_type": "markdown",
   "id": "853cf963-687c-421d-b7af-090495d6b35d",
   "metadata": {
    "editable": true,
    "slideshow": {
     "slide_type": ""
    },
    "tags": []
   },
   "source": [
    "#### (Optional) Save pickle of tokenization"
   ]
  },
  {
   "cell_type": "code",
   "execution_count": 50,
   "id": "2c2034ff-73b5-4ba9-a09f-44c985d0298c",
   "metadata": {
    "editable": true,
    "slideshow": {
     "slide_type": ""
    },
    "tags": []
   },
   "outputs": [],
   "source": [
    "df_new_york_history.to_pickle('df_new_york_history.pickle')"
   ]
  },
  {
   "cell_type": "markdown",
   "id": "f5420e68-e9c7-4305-90b4-7c99b17c7851",
   "metadata": {},
   "source": [
    "---"
   ]
  },
  {
   "cell_type": "markdown",
   "id": "86d9a9e3-5175-46ac-8a80-acaf6f4961b0",
   "metadata": {
    "editable": true,
    "slideshow": {
     "slide_type": ""
    },
    "tags": []
   },
   "source": [
    "## 6 Geoparsing (Deep Scan)"
   ]
  },
  {
   "cell_type": "markdown",
   "id": "9911c805-4185-4d35-aa32-75c504d67e17",
   "metadata": {
    "editable": true,
    "slideshow": {
     "slide_type": ""
    },
    "tags": []
   },
   "source": [
    "### Overview\n",
    "\n",
    "Since the deep scan for toponyms will likely reduce the size of the dataframe again, we can backload the sentiment analysis as the last step to ensure we don't process data unnecessarily."
   ]
  },
  {
   "cell_type": "code",
   "execution_count": 49,
   "id": "5771fac4-63cf-48f4-a8a4-75f12db32639",
   "metadata": {},
   "outputs": [],
   "source": [
    "from geoparser import Geoparser\n",
    "from tqdm.notebook import tqdm\n"
   ]
  },
  {
   "cell_type": "markdown",
   "id": "fbde5075-2eeb-4117-9a9a-53e9bf9bf4dd",
   "metadata": {},
   "source": [
    "Because there are some compatibility issues with the `geoparser` package, there are pesky warnings that pop-up. These do not affect the output, but they are annoying. The line below filters these out of the console."
   ]
  },
  {
   "cell_type": "code",
   "execution_count": 50,
   "id": "db235c6c-b309-4a77-a655-09b8154eac4b",
   "metadata": {},
   "outputs": [],
   "source": [
    "import warnings\n",
    "\n",
    "# Suppress all FutureWarnings\n",
    "warnings.simplefilter(action='ignore', category=FutureWarning)"
   ]
  },
  {
   "cell_type": "markdown",
   "id": "978acb25-34b1-4903-b3e1-ac5ab017245f",
   "metadata": {},
   "source": [
    "### Load Geoparser"
   ]
  },
  {
   "cell_type": "markdown",
   "id": "2fa3c57f-4c2b-444c-9b55-8ed504cb54ea",
   "metadata": {},
   "source": [
    "To use Geoparser, instantiate an object of the Geoparser class with optional specifications for the spaCy model, transformer model, and gazetteer. By default, the library uses an accuracy-optimised configuration:"
   ]
  },
  {
   "cell_type": "code",
   "execution_count": 51,
   "id": "c55c5860-4964-4ccd-b224-62401445a609",
   "metadata": {},
   "outputs": [],
   "source": [
    "geo = Geoparser(spacy_model='en_core_web_trf', transformer_model='dguzh/geo-all-distilroberta-v1', gazetteer='geonames')"
   ]
  },
  {
   "cell_type": "markdown",
   "id": "e2b05bd9-bbd9-47b9-b6b4-7da886cc9b8a",
   "metadata": {},
   "source": [
    "Load in the `geoparse_column` function to simplify the toponym recognition process."
   ]
  },
  {
   "cell_type": "code",
   "execution_count": 54,
   "id": "868ef385-d77d-406d-8707-18959d7a458b",
   "metadata": {},
   "outputs": [],
   "source": [
    "def geoparse_column(df):\n",
    "    sentences = df['cleaned_sentences'].tolist()  # Convert column to list\n",
    "    docs = geo.parse(sentences, feature_filter=['A', 'P'])  # Run geo.parse on the entire list\n",
    "\n",
    "    # Initialize lists to store the extracted fields\n",
    "    places, latitudes, longitudes, feature_names = [], [], [], []\n",
    "\n",
    "    # Iterate through the results and extract toponyms and their locations\n",
    "    for doc in docs:\n",
    "        doc_places = []\n",
    "        doc_latitudes = []\n",
    "        doc_longitudes = []\n",
    "        doc_feature_names = []\n",
    "\n",
    "        for toponym in doc.toponyms:\n",
    "            if toponym.location:\n",
    "                doc_places.append(toponym.location.get('name'))\n",
    "                doc_latitudes.append(toponym.location.get('latitude'))\n",
    "                doc_longitudes.append(toponym.location.get('longitude'))\n",
    "                doc_feature_names.append(toponym.location.get('feature_name'))\n",
    "            else:\n",
    "                doc_places.append(None)\n",
    "                doc_latitudes.append(None)\n",
    "                doc_longitudes.append(None)\n",
    "                doc_feature_names.append(None)\n",
    "\n",
    "        # Append the extracted data for the document\n",
    "        places.append(doc_places)\n",
    "        latitudes.append(doc_latitudes)\n",
    "        longitudes.append(doc_longitudes)\n",
    "        feature_names.append(doc_feature_names)\n",
    "\n",
    "    # Assign the extracted data to the DataFrame as new columns\n",
    "    df['place'] = places\n",
    "    df['latitude'] = latitudes\n",
    "    df['longitude'] = longitudes\n",
    "    df['feature_name'] = feature_names\n",
    "\n",
    "    return df\n"
   ]
  },
  {
   "cell_type": "code",
   "execution_count": 55,
   "id": "375790a9-d5cb-4184-bd31-b656766caff2",
   "metadata": {
    "editable": true,
    "slideshow": {
     "slide_type": ""
    },
    "tags": []
   },
   "outputs": [
    {
     "name": "stdout",
     "output_type": "stream",
     "text": [
      "Toponym Recognition...\n"
     ]
    },
    {
     "data": {
      "application/vnd.jupyter.widget-view+json": {
       "model_id": "2774dc89c7b74740a2daa221e8c8cf5c",
       "version_major": 2,
       "version_minor": 0
      },
      "text/plain": [
       "Batches:   0%|          | 0/12214 [00:00<?, ?it/s]"
      ]
     },
     "metadata": {},
     "output_type": "display_data"
    },
    {
     "name": "stdout",
     "output_type": "stream",
     "text": [
      "Toponym Resolution...\n"
     ]
    },
    {
     "data": {
      "application/vnd.jupyter.widget-view+json": {
       "model_id": "40d1dc018a7649e09eeddde1a6704ce9",
       "version_major": 2,
       "version_minor": 0
      },
      "text/plain": [
       "Batches:   0%|          | 0/3906 [00:00<?, ?it/s]"
      ]
     },
     "metadata": {},
     "output_type": "display_data"
    },
    {
     "data": {
      "application/vnd.jupyter.widget-view+json": {
       "model_id": "23dc87e491a9469b83401891a75dac56",
       "version_major": 2,
       "version_minor": 0
      },
      "text/plain": [
       "Batches:   0%|          | 0/2477 [00:00<?, ?it/s]"
      ]
     },
     "metadata": {},
     "output_type": "display_data"
    },
    {
     "data": {
      "text/html": [
       "<div>\n",
       "<style scoped>\n",
       "    .dataframe tbody tr th:only-of-type {\n",
       "        vertical-align: middle;\n",
       "    }\n",
       "\n",
       "    .dataframe tbody tr th {\n",
       "        vertical-align: top;\n",
       "    }\n",
       "\n",
       "    .dataframe thead th {\n",
       "        text-align: right;\n",
       "    }\n",
       "</style>\n",
       "<table border=\"1\" class=\"dataframe\">\n",
       "  <thead>\n",
       "    <tr style=\"text-align: right;\">\n",
       "      <th></th>\n",
       "      <th>cleaned_sentences</th>\n",
       "      <th>text_id</th>\n",
       "      <th>title</th>\n",
       "      <th>subjects</th>\n",
       "      <th>last_name</th>\n",
       "      <th>first_name</th>\n",
       "      <th>birth</th>\n",
       "      <th>death</th>\n",
       "      <th>sentences</th>\n",
       "      <th>toponyms</th>\n",
       "      <th>nltk_toponym_count</th>\n",
       "      <th>place</th>\n",
       "      <th>latitude</th>\n",
       "      <th>longitude</th>\n",
       "      <th>feature_name</th>\n",
       "    </tr>\n",
       "  </thead>\n",
       "  <tbody>\n",
       "    <tr>\n",
       "      <th>0</th>\n",
       "      <td>...</td>\n",
       "      <td>24712</td>\n",
       "      <td>The Negro at Work in New York City: A Study in...</td>\n",
       "      <td>African Americans -- History; African American...</td>\n",
       "      <td>Haynes</td>\n",
       "      <td>George Edmund</td>\n",
       "      <td>1880</td>\n",
       "      <td>1960</td>\n",
       "      <td>|                        |\\r\\n                ...</td>\n",
       "      <td>[Cincinnati, New                              ...</td>\n",
       "      <td>7</td>\n",
       "      <td>[Cincinnati, New York City]</td>\n",
       "      <td>[39.12711, 40.71427]</td>\n",
       "      <td>[-84.51439, -74.00597]</td>\n",
       "      <td>[seat of a second-order administrative divisio...</td>\n",
       "    </tr>\n",
       "    <tr>\n",
       "      <th>1</th>\n",
       "      <td>...</td>\n",
       "      <td>24712</td>\n",
       "      <td>The Negro at Work in New York City: A Study in...</td>\n",
       "      <td>African Americans -- History; African American...</td>\n",
       "      <td>Haynes</td>\n",
       "      <td>George Edmund</td>\n",
       "      <td>1880</td>\n",
       "      <td>1960</td>\n",
       "      <td>|\\r\\n      |                                  ...</td>\n",
       "      <td>[NEW YORK]</td>\n",
       "      <td>53</td>\n",
       "      <td>[New York City]</td>\n",
       "      <td>[40.71427]</td>\n",
       "      <td>[-74.00597]</td>\n",
       "      <td>[populated place]</td>\n",
       "    </tr>\n",
       "    <tr>\n",
       "      <th>2</th>\n",
       "      <td>...</td>\n",
       "      <td>24712</td>\n",
       "      <td>The Negro at Work in New York City: A Study in...</td>\n",
       "      <td>African Americans -- History; African American...</td>\n",
       "      <td>Haynes</td>\n",
       "      <td>George Edmund</td>\n",
       "      <td>1880</td>\n",
       "      <td>1960</td>\n",
       "      <td>|\\r\\n                       |                 ...</td>\n",
       "      <td>[Virginia]</td>\n",
       "      <td>224</td>\n",
       "      <td>[Virginia]</td>\n",
       "      <td>[37.54812]</td>\n",
       "      <td>[-77.44675]</td>\n",
       "      <td>[first-order administrative division]</td>\n",
       "    </tr>\n",
       "    <tr>\n",
       "      <th>3</th>\n",
       "      <td>...</td>\n",
       "      <td>70129</td>\n",
       "      <td>General Washington's spies on Long Island and ...</td>\n",
       "      <td>New York (N.Y.) -- History -- Revolution, 1775...</td>\n",
       "      <td>Pennypacker</td>\n",
       "      <td>Morton</td>\n",
       "      <td>1872</td>\n",
       "      <td>1956</td>\n",
       "      <td>*       *       *       *       *\\r\\n\\r\\n     ...</td>\n",
       "      <td>[FAIRFIELD]</td>\n",
       "      <td>9</td>\n",
       "      <td>[Pleasant Hill]</td>\n",
       "      <td>[39.44338]</td>\n",
       "      <td>[-90.87235]</td>\n",
       "      <td>[populated place]</td>\n",
       "    </tr>\n",
       "    <tr>\n",
       "      <th>4</th>\n",
       "      <td>...</td>\n",
       "      <td>24712</td>\n",
       "      <td>The Negro at Work in New York City: A Study in...</td>\n",
       "      <td>African Americans -- History; African American...</td>\n",
       "      <td>Haynes</td>\n",
       "      <td>George Edmund</td>\n",
       "      <td>1880</td>\n",
       "      <td>1960</td>\n",
       "      <td>|                      |                      ...</td>\n",
       "      <td>[America]</td>\n",
       "      <td>212</td>\n",
       "      <td>[United States, New York]</td>\n",
       "      <td>[39.76, 43.00035]</td>\n",
       "      <td>[-98.5, -75.4999]</td>\n",
       "      <td>[independent political entity, first-order adm...</td>\n",
       "    </tr>\n",
       "    <tr>\n",
       "      <th>...</th>\n",
       "      <td>...</td>\n",
       "      <td>...</td>\n",
       "      <td>...</td>\n",
       "      <td>...</td>\n",
       "      <td>...</td>\n",
       "      <td>...</td>\n",
       "      <td>...</td>\n",
       "      <td>...</td>\n",
       "      <td>...</td>\n",
       "      <td>...</td>\n",
       "      <td>...</td>\n",
       "      <td>...</td>\n",
       "      <td>...</td>\n",
       "      <td>...</td>\n",
       "      <td>...</td>\n",
       "    </tr>\n",
       "    <tr>\n",
       "      <th>12209</th>\n",
       "      <td>“Whenever I sit down I always feel and know my...</td>\n",
       "      <td>70129</td>\n",
       "      <td>General Washington's spies on Long Island and ...</td>\n",
       "      <td>New York (N.Y.) -- History -- Revolution, 1775...</td>\n",
       "      <td>Pennypacker</td>\n",
       "      <td>Morton</td>\n",
       "      <td>1872</td>\n",
       "      <td>1956</td>\n",
       "      <td>“Whenever I sit down I always feel and know my...</td>\n",
       "      <td>[Letter]</td>\n",
       "      <td>7</td>\n",
       "      <td>[]</td>\n",
       "      <td>[]</td>\n",
       "      <td>[]</td>\n",
       "      <td>[]</td>\n",
       "    </tr>\n",
       "    <tr>\n",
       "      <th>12210</th>\n",
       "      <td>“Whereas several of the inhabitants  on the fe...</td>\n",
       "      <td>56078</td>\n",
       "      <td>Notes Geographical and Historical, Relating to...</td>\n",
       "      <td>Brooklyn (New York, N.Y.) -- History</td>\n",
       "      <td>Furman</td>\n",
       "      <td>Gabriel</td>\n",
       "      <td>1800</td>\n",
       "      <td>1854</td>\n",
       "      <td>“Whereas several of the inhabitants\\r\\non the ...</td>\n",
       "      <td>[Breuckland]</td>\n",
       "      <td>3</td>\n",
       "      <td>[None, None, None]</td>\n",
       "      <td>[None, None, None]</td>\n",
       "      <td>[None, None, None]</td>\n",
       "      <td>[None, None, None]</td>\n",
       "    </tr>\n",
       "    <tr>\n",
       "      <th>12211</th>\n",
       "      <td>“Whether there are any Works upon the Island o...</td>\n",
       "      <td>70129</td>\n",
       "      <td>General Washington's spies on Long Island and ...</td>\n",
       "      <td>New York (N.Y.) -- History -- Revolution, 1775...</td>\n",
       "      <td>Pennypacker</td>\n",
       "      <td>Morton</td>\n",
       "      <td>1872</td>\n",
       "      <td>1956</td>\n",
       "      <td>“Whether there are any Works upon the Island o...</td>\n",
       "      <td>[Washington]</td>\n",
       "      <td>753</td>\n",
       "      <td>[None, City, None, Washington County]</td>\n",
       "      <td>[None, 18.24408, None, 43.3137]</td>\n",
       "      <td>[None, -77.4972, None, -73.43076]</td>\n",
       "      <td>[None, populated place, None, second-order adm...</td>\n",
       "    </tr>\n",
       "    <tr>\n",
       "      <th>12212</th>\n",
       "      <td>“Ye fyremasters” were also ordered to see that...</td>\n",
       "      <td>72327</td>\n",
       "      <td>Colonial days in old New York</td>\n",
       "      <td>New York (State) -- History -- Colonial period...</td>\n",
       "      <td>Earle</td>\n",
       "      <td>Alice Morse</td>\n",
       "      <td>1851</td>\n",
       "      <td>1911</td>\n",
       "      <td>“Y^e fyre-masters” were also ordered to see th...</td>\n",
       "      <td>[Flatbush]</td>\n",
       "      <td>11</td>\n",
       "      <td>[Flatbush]</td>\n",
       "      <td>[40.65205]</td>\n",
       "      <td>[-73.95903]</td>\n",
       "      <td>[populated place]</td>\n",
       "    </tr>\n",
       "    <tr>\n",
       "      <th>12213</th>\n",
       "      <td>“You dn hussy, you forget all about yourself, ...</td>\n",
       "      <td>59899</td>\n",
       "      <td>Ten Days in a Mad-House; or, Nellie Bly's Expe...</td>\n",
       "      <td>N.Y. City Lunatic Asylum; Bly, Nellie, 1864-19...</td>\n",
       "      <td>Bly</td>\n",
       "      <td>Nellie</td>\n",
       "      <td>1864</td>\n",
       "      <td>1922</td>\n",
       "      <td>“You d—n hussy, you forget all about yourself,...</td>\n",
       "      <td>[Neville]</td>\n",
       "      <td>1</td>\n",
       "      <td>[]</td>\n",
       "      <td>[]</td>\n",
       "      <td>[]</td>\n",
       "      <td>[]</td>\n",
       "    </tr>\n",
       "  </tbody>\n",
       "</table>\n",
       "<p>12214 rows × 15 columns</p>\n",
       "</div>"
      ],
      "text/plain": [
       "                                       cleaned_sentences  text_id  \\\n",
       "0                                                    ...    24712   \n",
       "1                                                    ...    24712   \n",
       "2                                                    ...    24712   \n",
       "3                                                    ...    70129   \n",
       "4                                                    ...    24712   \n",
       "...                                                  ...      ...   \n",
       "12209  “Whenever I sit down I always feel and know my...    70129   \n",
       "12210  “Whereas several of the inhabitants  on the fe...    56078   \n",
       "12211  “Whether there are any Works upon the Island o...    70129   \n",
       "12212  “Ye fyremasters” were also ordered to see that...    72327   \n",
       "12213  “You dn hussy, you forget all about yourself, ...    59899   \n",
       "\n",
       "                                                   title  \\\n",
       "0      The Negro at Work in New York City: A Study in...   \n",
       "1      The Negro at Work in New York City: A Study in...   \n",
       "2      The Negro at Work in New York City: A Study in...   \n",
       "3      General Washington's spies on Long Island and ...   \n",
       "4      The Negro at Work in New York City: A Study in...   \n",
       "...                                                  ...   \n",
       "12209  General Washington's spies on Long Island and ...   \n",
       "12210  Notes Geographical and Historical, Relating to...   \n",
       "12211  General Washington's spies on Long Island and ...   \n",
       "12212                      Colonial days in old New York   \n",
       "12213  Ten Days in a Mad-House; or, Nellie Bly's Expe...   \n",
       "\n",
       "                                                subjects    last_name  \\\n",
       "0      African Americans -- History; African American...       Haynes   \n",
       "1      African Americans -- History; African American...       Haynes   \n",
       "2      African Americans -- History; African American...       Haynes   \n",
       "3      New York (N.Y.) -- History -- Revolution, 1775...  Pennypacker   \n",
       "4      African Americans -- History; African American...       Haynes   \n",
       "...                                                  ...          ...   \n",
       "12209  New York (N.Y.) -- History -- Revolution, 1775...  Pennypacker   \n",
       "12210               Brooklyn (New York, N.Y.) -- History       Furman   \n",
       "12211  New York (N.Y.) -- History -- Revolution, 1775...  Pennypacker   \n",
       "12212  New York (State) -- History -- Colonial period...        Earle   \n",
       "12213  N.Y. City Lunatic Asylum; Bly, Nellie, 1864-19...          Bly   \n",
       "\n",
       "          first_name  birth  death  \\\n",
       "0      George Edmund   1880   1960   \n",
       "1      George Edmund   1880   1960   \n",
       "2      George Edmund   1880   1960   \n",
       "3             Morton   1872   1956   \n",
       "4      George Edmund   1880   1960   \n",
       "...              ...    ...    ...   \n",
       "12209         Morton   1872   1956   \n",
       "12210        Gabriel   1800   1854   \n",
       "12211         Morton   1872   1956   \n",
       "12212    Alice Morse   1851   1911   \n",
       "12213         Nellie   1864   1922   \n",
       "\n",
       "                                               sentences  \\\n",
       "0      |                        |\\r\\n                ...   \n",
       "1      |\\r\\n      |                                  ...   \n",
       "2      |\\r\\n                       |                 ...   \n",
       "3      *       *       *       *       *\\r\\n\\r\\n     ...   \n",
       "4      |                      |                      ...   \n",
       "...                                                  ...   \n",
       "12209  “Whenever I sit down I always feel and know my...   \n",
       "12210  “Whereas several of the inhabitants\\r\\non the ...   \n",
       "12211  “Whether there are any Works upon the Island o...   \n",
       "12212  “Y^e fyre-masters” were also ordered to see th...   \n",
       "12213  “You d—n hussy, you forget all about yourself,...   \n",
       "\n",
       "                                                toponyms  nltk_toponym_count  \\\n",
       "0      [Cincinnati, New                              ...                   7   \n",
       "1                                             [NEW YORK]                  53   \n",
       "2                                             [Virginia]                 224   \n",
       "3                                            [FAIRFIELD]                   9   \n",
       "4                                              [America]                 212   \n",
       "...                                                  ...                 ...   \n",
       "12209                                           [Letter]                   7   \n",
       "12210                                       [Breuckland]                   3   \n",
       "12211                                       [Washington]                 753   \n",
       "12212                                         [Flatbush]                  11   \n",
       "12213                                          [Neville]                   1   \n",
       "\n",
       "                                       place                         latitude  \\\n",
       "0                [Cincinnati, New York City]             [39.12711, 40.71427]   \n",
       "1                            [New York City]                       [40.71427]   \n",
       "2                                 [Virginia]                       [37.54812]   \n",
       "3                            [Pleasant Hill]                       [39.44338]   \n",
       "4                  [United States, New York]                [39.76, 43.00035]   \n",
       "...                                      ...                              ...   \n",
       "12209                                     []                               []   \n",
       "12210                     [None, None, None]               [None, None, None]   \n",
       "12211  [None, City, None, Washington County]  [None, 18.24408, None, 43.3137]   \n",
       "12212                             [Flatbush]                       [40.65205]   \n",
       "12213                                     []                               []   \n",
       "\n",
       "                               longitude  \\\n",
       "0                 [-84.51439, -74.00597]   \n",
       "1                            [-74.00597]   \n",
       "2                            [-77.44675]   \n",
       "3                            [-90.87235]   \n",
       "4                      [-98.5, -75.4999]   \n",
       "...                                  ...   \n",
       "12209                                 []   \n",
       "12210                 [None, None, None]   \n",
       "12211  [None, -77.4972, None, -73.43076]   \n",
       "12212                        [-73.95903]   \n",
       "12213                                 []   \n",
       "\n",
       "                                            feature_name  \n",
       "0      [seat of a second-order administrative divisio...  \n",
       "1                                      [populated place]  \n",
       "2                  [first-order administrative division]  \n",
       "3                                      [populated place]  \n",
       "4      [independent political entity, first-order adm...  \n",
       "...                                                  ...  \n",
       "12209                                                 []  \n",
       "12210                                 [None, None, None]  \n",
       "12211  [None, populated place, None, second-order adm...  \n",
       "12212                                  [populated place]  \n",
       "12213                                                 []  \n",
       "\n",
       "[12214 rows x 15 columns]"
      ]
     },
     "execution_count": 55,
     "metadata": {},
     "output_type": "execute_result"
    }
   ],
   "source": [
    "geoparse_column(df_new_york_history)"
   ]
  },
  {
   "cell_type": "markdown",
   "id": "45fe8b5a-d2c8-497b-97bb-2facb72f9080",
   "metadata": {},
   "source": [
    "![](save.png)"
   ]
  },
  {
   "cell_type": "markdown",
   "id": "23545418-afd0-45ee-9c46-8386f2055305",
   "metadata": {
    "editable": true,
    "slideshow": {
     "slide_type": ""
    },
    "tags": []
   },
   "source": [
    "### Export Pickle 2"
   ]
  },
  {
   "cell_type": "markdown",
   "id": "6e67b1cc-0d10-406f-9348-6bd879ebd2cd",
   "metadata": {
    "editable": true,
    "slideshow": {
     "slide_type": ""
    },
    "tags": []
   },
   "source": [
    "As the geoparsing process takes a long time, you should store it right after the result. You will also import these results for your `project_presentation_template`\n",
    "\n",
    "```python\n",
    "YOUR_DATAFRAME.to_pickle('YOUR_DATAFRAME_PLACES.pickle')\n",
    "```\n"
   ]
  },
  {
   "cell_type": "code",
   "execution_count": null,
   "id": "c0a89aee-b5d9-4b46-a3ed-3c07a255279f",
   "metadata": {
    "editable": true,
    "slideshow": {
     "slide_type": ""
    },
    "tags": []
   },
   "outputs": [],
   "source": [
    "df_new_york_history.to_pickle('df_new_york_history.pickle')"
   ]
  },
  {
   "cell_type": "code",
   "execution_count": null,
   "id": "d6609073-a1da-481c-bfdc-785e7c5fd57b",
   "metadata": {},
   "outputs": [],
   "source": [
    "df_new_york_history.sample(5)"
   ]
  },
  {
   "cell_type": "markdown",
   "id": "60d0a2a7-d001-493a-a7d5-89c75d30f66d",
   "metadata": {
    "editable": true,
    "slideshow": {
     "slide_type": ""
    },
    "tags": []
   },
   "source": [
    "### Clean up the resulting dataframe"
   ]
  },
  {
   "cell_type": "markdown",
   "id": "047f0fec-3c82-4598-a95f-9747cddad4d7",
   "metadata": {
    "editable": true,
    "slideshow": {
     "slide_type": ""
    },
    "tags": []
   },
   "source": [
    "As with the previous instance of toponym resolution, there will be some rows that do not contain relevant information. This will slow down the sentiment analysis. \n",
    "1. Eliminate empty results"
   ]
  },
  {
   "cell_type": "code",
   "execution_count": null,
   "id": "6e1e6728-e3e5-4fa9-ab95-668334df78d4",
   "metadata": {
    "editable": true,
    "slideshow": {
     "slide_type": ""
    },
    "tags": []
   },
   "outputs": [],
   "source": [
    "df_new_york_history = df_new_york_history[df_new_york_history['place'].str.len() != 0].copy()"
   ]
  },
  {
   "cell_type": "markdown",
   "id": "2ad92253-d754-4d6f-907f-9bb33b494184",
   "metadata": {},
   "source": [
    "---"
   ]
  },
  {
   "cell_type": "markdown",
   "id": "0d144b0d-0e89-48ee-b0b1-e12f0a40657c",
   "metadata": {
    "editable": true,
    "slideshow": {
     "slide_type": ""
    },
    "tags": []
   },
   "source": [
    "## 7 Run Sentiment Analysis"
   ]
  },
  {
   "cell_type": "markdown",
   "id": "0bde948a-95fb-4b0a-8c62-ec416373be5e",
   "metadata": {
    "editable": true,
    "slideshow": {
     "slide_type": ""
    },
    "tags": []
   },
   "source": [
    "### Overview\n",
    "\n",
    "We will now implement the sentiment analysis on the remaining sentences."
   ]
  },
  {
   "cell_type": "markdown",
   "id": "12c96396-cfa4-4bbb-abcc-48c4cd62dbf7",
   "metadata": {},
   "source": [
    "Read step through and read all the prerequisites into memory."
   ]
  },
  {
   "cell_type": "code",
   "execution_count": null,
   "id": "bf58a60f-d5af-4a97-9a06-256dad43a48a",
   "metadata": {},
   "outputs": [],
   "source": [
    "from transformers import pipeline, AutoTokenizer, AutoModelForSequenceClassification\n",
    "from tqdm import tqdm\n",
    "from scipy.special import softmax\n",
    "from typing import Dict, Any"
   ]
  },
  {
   "cell_type": "code",
   "execution_count": null,
   "id": "86680009-43ac-46e7-8743-9204a4a1d034",
   "metadata": {},
   "outputs": [],
   "source": [
    "df_new_york_history"
   ]
  },
  {
   "cell_type": "code",
   "execution_count": null,
   "id": "370d95f9-1902-415a-8aba-1087cdaf019f",
   "metadata": {},
   "outputs": [],
   "source": [
    "# Initialize RoBERTa. There will probably be a warning. You can ignore this.\n",
    "MODEL = \"cardiffnlp/twitter-roberta-base-sentiment\"\n",
    "tokenizer = AutoTokenizer.from_pretrained(MODEL)\n",
    "model = AutoModelForSequenceClassification.from_pretrained(MODEL)"
   ]
  },
  {
   "cell_type": "code",
   "execution_count": null,
   "id": "ad7433bf-aa8d-444e-bb1b-808f8991f4cf",
   "metadata": {
    "editable": true,
    "slideshow": {
     "slide_type": ""
    },
    "tags": []
   },
   "outputs": [],
   "source": [
    "# Function to calculate RoBERTa sentiment scores\n",
    "def polarity_scores_roberta(text: str) -> Dict[str, float]:\n",
    "    \"\"\"\n",
    "    Calculate RoBERTa sentiment scores for a given text.\n",
    "    \n",
    "    Args:\n",
    "    - text: The text to analyze\n",
    "    \n",
    "    Returns:\n",
    "    - A dictionary with sentiment scores for negative, neutral, and positive sentiment\n",
    "    \"\"\"\n",
    "    # Tokenize and truncate to max length (512 tokens)\n",
    "    encoded_text = tokenizer.encode_plus(\n",
    "        text, \n",
    "        max_length=512, \n",
    "        truncation=True, \n",
    "        return_tensors='pt'\n",
    "    )\n",
    "    \n",
    "    # Get model output and convert to probabilities\n",
    "    output = model(**encoded_text)\n",
    "    scores = output[0][0].detach().numpy()\n",
    "    scores = softmax(scores)\n",
    "    \n",
    "    return {\n",
    "        'roberta_neg': scores[0],\n",
    "        'roberta_neu': scores[1],\n",
    "        'roberta_pos': scores[2]\n",
    "    }\n"
   ]
  },
  {
   "cell_type": "code",
   "execution_count": null,
   "id": "cc42fc29-c461-4985-9c99-0b58a33557a3",
   "metadata": {},
   "outputs": [],
   "source": [
    "# Function to attach sentiment analysis to a specific column in the dataframe\n",
    "def add_sentiment_to_column(\n",
    "    df: pd.DataFrame, column_name: str, num_rows: int = None\n",
    ") -> pd.DataFrame:\n",
    "    \"\"\"\n",
    "    Adds RoBERTa sentiment analysis to a specified column in a dataframe.\n",
    "    \n",
    "    Args:\n",
    "    - df: The dataframe to process\n",
    "    - column_name: The name of the column containing the text to analyze\n",
    "    - num_rows: The number of rows to process (default: 500)\n",
    "    \n",
    "    Returns:\n",
    "    - df: A dataframe with added sentiment analysis columns\n",
    "    \"\"\"\n",
    "        # If num_rows is specified, limit the dataframe, otherwise process all rows\n",
    "    if num_rows:\n",
    "        df_subset = df.head(num_rows).reset_index(drop=True)\n",
    "    else:\n",
    "        df_subset = df.reset_index(drop=True)  # Process all rows and reset the index\n",
    "    \n",
    "    # Function to process each row and add sentiment analysis\n",
    "    def process_row(text: str) -> Dict[str, Any]:\n",
    "        try:\n",
    "            return polarity_scores_roberta(text)\n",
    "        except Exception as e:\n",
    "            print(f\"Error processing text: {text}. Error: {e}\")\n",
    "            return {'roberta_neg': None, 'roberta_neu': None, 'roberta_pos': None}\n",
    "    \n",
    "    # Apply the RoBERTa sentiment analysis to each row\n",
    "    tqdm.pandas(desc=\"Processing Sentiment Analysis\")\n",
    "    sentiment_scores = df_subset[column_name].progress_apply(process_row)\n",
    "    \n",
    "    # Convert the resulting list of dictionaries into a DataFrame and concatenate it with the original subset\n",
    "    sentiment_df = pd.DataFrame(sentiment_scores.tolist())\n",
    "    df_subset = pd.concat([df_subset, sentiment_df], axis=1)\n",
    "    \n",
    "    return df_subset"
   ]
  },
  {
   "cell_type": "code",
   "execution_count": null,
   "id": "c1bde43d-3bf6-47c1-a086-24741d3d5905",
   "metadata": {
    "editable": true,
    "slideshow": {
     "slide_type": ""
    },
    "tags": []
   },
   "outputs": [],
   "source": [
    "df_new_york_history_sentiment = add_sentiment_to_column(df_new_york_history, 'cleaned_sentences')\n"
   ]
  },
  {
   "cell_type": "markdown",
   "id": "64b37d33-4a25-4119-98ce-e0ecf1257d51",
   "metadata": {},
   "source": [
    "### Create an aggregate score"
   ]
  },
  {
   "cell_type": "markdown",
   "id": "376df567-2746-4d34-960d-136aa299f622",
   "metadata": {},
   "source": [
    "Since the roberta score is positive, negative, and neutral, we will have to consolidate it into one easier to understand score. We will take the difference between positive and negative, and multiply it by the percentage of neutral. This way if a score is very neutral it will even out the difference between positive and negative."
   ]
  },
  {
   "cell_type": "code",
   "execution_count": null,
   "id": "4f676bc0-24b1-4d86-8e76-2e9ef2724ac2",
   "metadata": {
    "editable": true,
    "slideshow": {
     "slide_type": ""
    },
    "tags": []
   },
   "outputs": [],
   "source": [
    "# Calculate the compound score and add it as a new column 'roberta_compound'\n",
    "df_new_york_history_sentiment['roberta_compound'] = (\n",
    "    df_new_york_history_sentiment['roberta_pos'] - df_new_york_history_sentiment['roberta_neg']\n",
    ") * (1 - df_new_york_history_sentiment['roberta_neu'])\n"
   ]
  },
  {
   "cell_type": "markdown",
   "id": "0e790fa0-818a-411b-930d-9c648abda9b3",
   "metadata": {},
   "source": [
    "### Explode, filter, and aggregate"
   ]
  },
  {
   "cell_type": "markdown",
   "id": "2d38be33-12c6-4fe4-9381-1e8e57dff252",
   "metadata": {},
   "source": [
    "At the moment, there are places and sentiments, but since some of the sentences contain multiple places these need to be unnested."
   ]
  },
  {
   "cell_type": "code",
   "execution_count": null,
   "id": "e07fd80d-7e5e-45b4-83da-bd43e83e0772",
   "metadata": {
    "editable": true,
    "slideshow": {
     "slide_type": ""
    },
    "tags": []
   },
   "outputs": [],
   "source": [
    "df_new_york_history_sentiment = df_new_york_history_sentiment.explode(['place', 'latitude', 'longitude', 'feature_name'])"
   ]
  },
  {
   "cell_type": "markdown",
   "id": "4ebf4a52-17aa-4343-ae30-0c8c00f44806",
   "metadata": {},
   "source": [
    "Remove empty values\n"
   ]
  },
  {
   "cell_type": "code",
   "execution_count": null,
   "id": "43ad73bf-743b-41ae-9388-39d2eea818d4",
   "metadata": {
    "editable": true,
    "slideshow": {
     "slide_type": ""
    },
    "tags": []
   },
   "outputs": [],
   "source": [
    "df_new_york_history_sentiment = df_new_york_history_sentiment[df_new_york_history_sentiment.place.notna()]"
   ]
  },
  {
   "cell_type": "markdown",
   "id": "98092d4f-0b12-49a1-9857-76d186a4e66e",
   "metadata": {},
   "source": [
    "Aggregate the data"
   ]
  },
  {
   "cell_type": "code",
   "execution_count": null,
   "id": "310ee69a-d384-4954-9b7b-d484fd6b168a",
   "metadata": {
    "editable": true,
    "slideshow": {
     "slide_type": ""
    },
    "tags": []
   },
   "outputs": [],
   "source": [
    "df_new_york_history_sentiment = df_new_york_history_sentiment.groupby('place').agg(\n",
    "    location_count=('place', 'size'),  # Count occurrences of each location\n",
    "    latitude=('latitude', 'first'),    # Take the first latitude (you can also use 'mean')\n",
    "    longitude=('longitude', 'first'),  # Take the first longitude (or 'mean')\n",
    "    location=('feature_name','first'),\n",
    "    avg_roberta_pos=('roberta_pos', 'mean'),  # Average of roberta_pos\n",
    "    avg_roberta_neu=('roberta_neu', 'mean'),  # Average of roberta_neu\n",
    "    avg_roberta_neg=('roberta_neg', 'mean'), # Average of roberta_neg\n",
    "    avg_roberta_compound =('roberta_compound','mean')\n",
    ").reset_index()"
   ]
  },
  {
   "cell_type": "markdown",
   "id": "f67c3ae8-d468-4274-a3a2-b2358897d75a",
   "metadata": {
    "editable": true,
    "slideshow": {
     "slide_type": ""
    },
    "tags": []
   },
   "source": [
    "#### Create Histogram of Count Values (Optional)"
   ]
  },
  {
   "cell_type": "markdown",
   "id": "931faf67-1546-4bd3-bffe-51b0b4ac5f47",
   "metadata": {},
   "source": [
    "To get a sense of how the data is distributed and to decide which data to include, you can create a histogram of the `location_count` column fairly easily."
   ]
  },
  {
   "cell_type": "code",
   "execution_count": 64,
   "id": "75f693c6-22f4-412a-98e7-a92dd0629375",
   "metadata": {
    "editable": true,
    "slideshow": {
     "slide_type": ""
    },
    "tags": []
   },
   "outputs": [
    {
     "ename": "SyntaxError",
     "evalue": "invalid syntax (725985143.py, line 3)",
     "output_type": "error",
     "traceback": [
      "\u001b[0;36m  Cell \u001b[0;32mIn[64], line 3\u001b[0;36m\u001b[0m\n\u001b[0;31m    pip install matplotlib\u001b[0m\n\u001b[0m        ^\u001b[0m\n\u001b[0;31mSyntaxError\u001b[0m\u001b[0;31m:\u001b[0m invalid syntax\n"
     ]
    }
   ],
   "source": [
    "import matplotlib.pyplot as plt\n",
    "# You might need to install matplotlib with \n",
    "pip install matplotlib\n",
    "\n",
    "df_new_york_history_sentiment.location_count.plot.hist(bins=10, alpha=0.7)"
   ]
  },
  {
   "cell_type": "markdown",
   "id": "5ccdba55-ed07-4c5f-b50b-6478a06f63de",
   "metadata": {
    "editable": true,
    "slideshow": {
     "slide_type": ""
    },
    "tags": []
   },
   "source": [
    "Generally, the data will be very left skewed. You might want to filter out some of the lower values."
   ]
  },
  {
   "cell_type": "code",
   "execution_count": null,
   "id": "383315c9-dd0d-40e2-afba-7f5e1027a8ae",
   "metadata": {},
   "outputs": [],
   "source": [
    "df_new_york_history_sentiment.sample(5)\n",
    "\n"
   ]
  },
  {
   "cell_type": "markdown",
   "id": "1ffb9a7f-2b79-4541-b598-fb0ded693f3b",
   "metadata": {
    "editable": true,
    "slideshow": {
     "slide_type": ""
    },
    "tags": []
   },
   "source": [
    "### Filter out low counts\n",
    "\n",
    "As very low counts will not show up on the map anyway, filter them out here. No code has been provided, but the procedure is essentially the same as before."
   ]
  },
  {
   "cell_type": "code",
   "execution_count": null,
   "id": "ecef527d-3d4d-48ac-916b-3e8da942f104",
   "metadata": {
    "editable": true,
    "slideshow": {
     "slide_type": ""
    },
    "tags": []
   },
   "outputs": [],
   "source": [
    "df_new_york_history_sentiment_filtered = df_new_york_history_sentiment[(df_new_york_history_sentiment.location_count > 20)]"
   ]
  },
  {
   "cell_type": "markdown",
   "id": "fa92368a-55db-45a1-8041-2e8e380dd4f5",
   "metadata": {
    "editable": true,
    "slideshow": {
     "slide_type": ""
    },
    "tags": []
   },
   "source": [
    "### Bucket Data"
   ]
  },
  {
   "cell_type": "code",
   "execution_count": null,
   "id": "be6190a4-80aa-4ed2-a094-4c5e580e0706",
   "metadata": {},
   "outputs": [],
   "source": [
    "df_new_york_history_sentiment_filtered.sample(5)\n"
   ]
  },
  {
   "cell_type": "markdown",
   "id": "a9b12403-bd56-4358-a974-5c5ae4c917f0",
   "metadata": {},
   "source": [
    "As we saw in lesson_5, the distribution of the data is tricky. We can solve this by bucketing it along the lines of Jenks Natural Breaks."
   ]
  },
  {
   "cell_type": "code",
   "execution_count": null,
   "id": "9c5bf278-7259-411b-af49-f2795836ff52",
   "metadata": {
    "editable": true,
    "slideshow": {
     "slide_type": ""
    },
    "tags": []
   },
   "outputs": [],
   "source": [
    "import mapclassify as mc #you may get an error. If so install mapclassify with pip install mapclassify\n",
    "\n",
    "jenks_breaks = mc.NaturalBreaks(y=df_new_york_history_sentiment_filtered_SENTIMENTS['location_count'], k=5)\n",
    "df_new_york_history_sentiment_filtered_SENTIMENTS.loc[:,'location_count_bucket'] = jenks_breaks.find_bin(df_new_york_history_sentiment_filtered['location_count'])+1"
   ]
  },
  {
   "cell_type": "code",
   "execution_count": null,
   "id": "bc9b2010-fe17-4352-b503-c8597ba52133",
   "metadata": {},
   "outputs": [],
   "source": []
  },
  {
   "cell_type": "markdown",
   "id": "88db5d13-7875-4399-a34f-e7171d3bb790",
   "metadata": {
    "editable": true,
    "slideshow": {
     "slide_type": ""
    },
    "tags": []
   },
   "source": [
    "### Export Pickle 3\n",
    "\n",
    "This is the final export of the file for the `project_presentation_template`\n",
    "\n",
    "```python\n",
    "YOUR_DATAFRAME.to_pickle('YOUR_DATAFRAME_SENTIMENTS.pickle')\n",
    "```\n"
   ]
  },
  {
   "cell_type": "code",
   "execution_count": null,
   "id": "30a5a5b2-b26c-4a8b-afae-a256aef28174",
   "metadata": {
    "editable": true,
    "slideshow": {
     "slide_type": ""
    },
    "tags": []
   },
   "outputs": [],
   "source": [
    "df_new_york_history_sentiment_filtered.to_pickle('df_new_york_history_sentiment_filtered_SENTIMENTS.pickle')"
   ]
  },
  {
   "cell_type": "markdown",
   "id": "a9a09fc2-1bc4-45cc-b9cf-010bf9de1bb6",
   "metadata": {
    "editable": true,
    "slideshow": {
     "slide_type": ""
    },
    "tags": []
   },
   "source": [
    "---"
   ]
  },
  {
   "cell_type": "markdown",
   "id": "4fa370e7-11ea-4724-8740-fb28b1689715",
   "metadata": {
    "editable": true,
    "slideshow": {
     "slide_type": ""
    },
    "tags": []
   },
   "source": [
    "## Map your Data"
   ]
  },
  {
   "cell_type": "markdown",
   "id": "c3e3a5bc-326f-421c-9076-9ddecb303e4e",
   "metadata": {},
   "source": [
    "### Overview\n",
    "\n",
    "This is the core of the project. Use the stub below to map your data and then customize the map. I have deliberately set some of the values very poorly to encourage you to work on your own map!"
   ]
  },
  {
   "cell_type": "code",
   "execution_count": null,
   "id": "f4807f6a-0f82-4fdc-9157-9f1c0a590348",
   "metadata": {
    "editable": true,
    "slideshow": {
     "slide_type": ""
    },
    "tags": []
   },
   "outputs": [],
   "source": [
    "import plotly.express as px\n",
    "\n",
    "fig = px.scatter_mapbox(\n",
    "    df_new_york_history_sentiment_filtered,  #put your dataframe here\n",
    "    lat=\"latitude\",               # Latitude column\n",
    "    lon=\"longitude\",              # Longitude column\n",
    "    size=\"location_count_bucket\",        # Bubble size based on location count\n",
    "    color=\"avg_roberta_compound\",      # Color based on sentiment score\n",
    "    color_continuous_scale=px.colors.cyclical.Twilight[::-1],  # Use Twilight scale (blue to red)\n",
    "    size_max=30,                  # Maximum size of the bubbles\n",
    "    center={\"lat\": 48, \"lon\": 2},\n",
    "    zoom=6                       # Adjust zoom level for better visibility\n",
    ")\n",
    "\n",
    "# Update the layout to use the default map style (which doesn't need a token)\n",
    "fig.update_layout(\n",
    "    mapbox_style=\"open-street-map\",  # No token needed for this style\n",
    "    margin={\"r\":0,\"t\":0,\"l\":0,\"b\":0}  # Remove margins for a cleaner view\n",
    ")\n",
    "\n",
    "\n",
    "\n",
    "fig.show()"
   ]
  },
  {
   "cell_type": "markdown",
   "id": "ea273a46-697a-4829-b795-f81f36b179a8",
   "metadata": {},
   "source": [
    "Happy mapping!"
   ]
  },
  {
   "cell_type": "code",
   "execution_count": null,
   "id": "dce5995c-e3a7-427b-826b-d80cc1984d20",
   "metadata": {
    "editable": true,
    "slideshow": {
     "slide_type": ""
    },
    "tags": []
   },
   "outputs": [],
   "source": []
  },
  {
   "cell_type": "code",
   "execution_count": null,
   "id": "6866d552-8821-4a98-ba3f-06892c23f163",
   "metadata": {},
   "outputs": [],
   "source": []
  },
  {
   "cell_type": "code",
   "execution_count": null,
   "id": "dfc1a331-2938-463e-aa64-74301582d3c8",
   "metadata": {},
   "outputs": [],
   "source": []
  },
  {
   "cell_type": "code",
   "execution_count": null,
   "id": "fbc66929-d280-44ad-84b5-f341d01d650e",
   "metadata": {},
   "outputs": [],
   "source": []
  },
  {
   "cell_type": "code",
   "execution_count": null,
   "id": "fb60d758-659e-49e6-90cf-569f1a5590db",
   "metadata": {},
   "outputs": [],
   "source": []
  },
  {
   "cell_type": "code",
   "execution_count": null,
   "id": "351d184c-811e-496a-be5b-dafe668bed38",
   "metadata": {},
   "outputs": [],
   "source": []
  },
  {
   "cell_type": "code",
   "execution_count": null,
   "id": "9e7f59a2-f135-4941-bb93-7558adbf44f2",
   "metadata": {},
   "outputs": [],
   "source": []
  },
  {
   "cell_type": "code",
   "execution_count": null,
   "id": "96fddcd0-04b5-4396-99b3-776eb4149843",
   "metadata": {},
   "outputs": [],
   "source": []
  }
 ],
 "metadata": {
  "kernelspec": {
   "display_name": "Python 3 (ipykernel)",
   "language": "python",
   "name": "python3"
  },
  "language_info": {
   "codemirror_mode": {
    "name": "ipython",
    "version": 3
   },
   "file_extension": ".py",
   "mimetype": "text/x-python",
   "name": "python",
   "nbconvert_exporter": "python",
   "pygments_lexer": "ipython3",
   "version": "3.12.2"
  }
 },
 "nbformat": 4,
 "nbformat_minor": 5
}
